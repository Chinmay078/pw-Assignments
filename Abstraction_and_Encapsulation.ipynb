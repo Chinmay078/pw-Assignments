{
  "nbformat": 4,
  "nbformat_minor": 0,
  "metadata": {
    "colab": {
      "provenance": []
    },
    "kernelspec": {
      "name": "python3",
      "display_name": "Python 3"
    },
    "language_info": {
      "name": "python"
    }
  },
  "cells": [
    {
      "cell_type": "markdown",
      "source": [
        "Q1. What is Abstraction in OOPs? Explain with an example."
      ],
      "metadata": {
        "id": "YMi9Yq67cqEp"
      }
    },
    {
      "cell_type": "markdown",
      "source": [
        "Abstraction is a fundamental concept in Object-Oriented Programming (OOP) that involves hiding the implementation details of a class or object and exposing only the essential features to the user. It allows the programmer to focus on what an object does instead of how it does it."
      ],
      "metadata": {
        "id": "_FqAuyXacsoQ"
      }
    },
    {
      "cell_type": "code",
      "source": [
        "from abc import ABC, abstractmethod\n",
        "\n",
        "class Vehicle(ABC):  # Abstract class\n",
        "    @abstractmethod\n",
        "    def start_engine(self):\n",
        "        pass\n",
        "\n",
        "class Car(Vehicle):\n",
        "    def start_engine(self):\n",
        "        return \"Car engine started.\"\n",
        "\n",
        "class Bike(Vehicle):\n",
        "    def start_engine(self):\n",
        "        return \"Bike engine started.\"\n",
        "\n",
        "# Using abstraction:\n",
        "vehicle = Car()\n",
        "print(vehicle.start_engine())"
      ],
      "metadata": {
        "colab": {
          "base_uri": "https://localhost:8080/"
        },
        "id": "zWdrpMSOcr9q",
        "outputId": "2c3f13e6-5f0d-4e93-e835-fe1d29cc13cd"
      },
      "execution_count": 1,
      "outputs": [
        {
          "output_type": "stream",
          "name": "stdout",
          "text": [
            "Car engine started.\n"
          ]
        }
      ]
    },
    {
      "cell_type": "markdown",
      "source": [
        "Q2. Differentiate between Abstraction and Encapsulation. Explain with an example."
      ],
      "metadata": {
        "id": "t-soET4VdSWY"
      }
    },
    {
      "cell_type": "markdown",
      "source": [
        "Abstraction is the process of hiding implementation details and exposing only the necessary functionalities. It focuses on what an object does rather than how it achieves it. Abstraction is typically implemented using abstract classes or interfaces.\n",
        "\n",
        "Encapsulation, on the other hand, is the technique of bundling data (variables) and methods (functions) that operate on the data into a single unit, usually a class. It also restricts direct access to some of an object's components, ensuring controlled interaction through methods."
      ],
      "metadata": {
        "id": "O2dapbHndY0_"
      }
    },
    {
      "cell_type": "code",
      "source": [
        "class BankAccount:\n",
        "    def __init__(self):\n",
        "        self.__balance = 0\n",
        "\n",
        "    def deposit(self, amount):\n",
        "        if amount > 0:\n",
        "            self.__balance += amount\n",
        "\n",
        "    def get_balance(self):\n",
        "        return self.__balance\n"
      ],
      "metadata": {
        "id": "z925xqT_dS9g"
      },
      "execution_count": 2,
      "outputs": []
    },
    {
      "cell_type": "markdown",
      "source": [
        "Here, the internal workings of how balance is updated are hidden from the user, providing a controlled interface to interact with the data."
      ],
      "metadata": {
        "id": "WY-98oX0d_ez"
      }
    },
    {
      "cell_type": "markdown",
      "source": [
        "Q3. What is abc module in Python? Why is it used?"
      ],
      "metadata": {
        "id": "fmeVkHj2eIPe"
      }
    },
    {
      "cell_type": "markdown",
      "source": [
        "The abc (Abstract Base Class) module in Python provides a way to define abstract base classes. It is used to create blueprints for other classes by defining abstract methods that must be implemented by derived classes.\n",
        "\n",
        "Key Features:\n",
        "Prevents instantiation of the abstract base class.\n",
        "Ensures that all derived classes implement the required methods."
      ],
      "metadata": {
        "id": "XthyIwpXeQkv"
      }
    },
    {
      "cell_type": "code",
      "source": [
        "from abc import ABC, abstractmethod\n",
        "\n",
        "class Animal(ABC):\n",
        "    @abstractmethod\n",
        "    def sound(self):\n",
        "        pass\n",
        "\n",
        "class Dog(Animal):\n",
        "    def sound(self):\n",
        "        return \"Bark\"\n",
        "\n",
        "# animal = Animal()  # Raises TypeError: Can't instantiate abstract class\n",
        "dog = Dog()\n",
        "print(dog.sound())\n"
      ],
      "metadata": {
        "colab": {
          "base_uri": "https://localhost:8080/"
        },
        "id": "0FQYB2UQd5SU",
        "outputId": "6c5b8d20-36b9-4472-916f-a57b18575718"
      },
      "execution_count": 4,
      "outputs": [
        {
          "output_type": "stream",
          "name": "stdout",
          "text": [
            "Bark\n"
          ]
        }
      ]
    },
    {
      "cell_type": "markdown",
      "source": [
        "Q4. How can we achieve data abstraction?"
      ],
      "metadata": {
        "id": "wapQYzWkeihH"
      }
    },
    {
      "cell_type": "markdown",
      "source": [
        "Data abstraction can be achieved in Python using:\n",
        "\n",
        "Abstract Base Classes (ABCs): Using the abc module to define abstract classes and methods.\n",
        "Encapsulation: By using private or protected attributes and providing access through methods."
      ],
      "metadata": {
        "id": "rF2lc55oejWf"
      }
    },
    {
      "cell_type": "markdown",
      "source": [
        "Example using Encapsulation:"
      ],
      "metadata": {
        "id": "_YZmzrnQeqV4"
      }
    },
    {
      "cell_type": "code",
      "source": [
        "class Student:\n",
        "    def __init__(self, name, age):\n",
        "        self.__name = name  # Private attribute\n",
        "        self.__age = age    # Private attribute\n",
        "\n",
        "    def get_details(self):\n",
        "        return f\"Name: {self.__name}, Age: {self.__age}\"\n"
      ],
      "metadata": {
        "id": "lF1POMXEeeSE"
      },
      "execution_count": 6,
      "outputs": []
    },
    {
      "cell_type": "markdown",
      "source": [
        "Q5. Can we create an instance of an abstract class? Explain your answer."
      ],
      "metadata": {
        "id": "R7yUWbzgevnF"
      }
    },
    {
      "cell_type": "markdown",
      "source": [
        "No, we cannot create an instance of an abstract class. Abstract classes are meant to serve as a blueprint for other classes and often contain abstract methods that have no implementation. Attempting to instantiate an abstract class will raise a TypeError."
      ],
      "metadata": {
        "id": "cvD5dXo1ey9d"
      }
    },
    {
      "cell_type": "code",
      "source": [
        "from abc import ABC, abstractmethod\n",
        "\n",
        "class AbstractClass(ABC):\n",
        "    @abstractmethod\n",
        "    def method(self):\n",
        "        pass\n",
        "\n",
        "# instance = AbstractClass()  # Raises TypeError: Can't instantiate abstract class\n",
        "\n",
        "class ConcreteClass(AbstractClass):\n",
        "    def method(self):\n",
        "        return \"Implementation provided.\"\n",
        "\n",
        "instance = ConcreteClass()\n",
        "print(instance.method())\n"
      ],
      "metadata": {
        "colab": {
          "base_uri": "https://localhost:8080/"
        },
        "id": "mxiRbBsmesiq",
        "outputId": "cc36d50c-af2f-43d8-81dc-1ff5fb8583d8"
      },
      "execution_count": 8,
      "outputs": [
        {
          "output_type": "stream",
          "name": "stdout",
          "text": [
            "Implementation provided.\n"
          ]
        }
      ]
    },
    {
      "cell_type": "code",
      "source": [],
      "metadata": {
        "id": "C2vjkGHle1UA"
      },
      "execution_count": null,
      "outputs": []
    }
  ]
}