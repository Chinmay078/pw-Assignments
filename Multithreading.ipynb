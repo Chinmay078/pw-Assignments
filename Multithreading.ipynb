{
  "nbformat": 4,
  "nbformat_minor": 0,
  "metadata": {
    "colab": {
      "provenance": []
    },
    "kernelspec": {
      "name": "python3",
      "display_name": "Python 3"
    },
    "language_info": {
      "name": "python"
    }
  },
  "cells": [
    {
      "cell_type": "markdown",
      "source": [
        "Q1. What is multithreading in Python? Why is it used? Name the module used to handle threads in Python."
      ],
      "metadata": {
        "id": "XXQYFqmIoRvN"
      }
    },
    {
      "cell_type": "markdown",
      "source": [
        "\n",
        "\n",
        "Multithreading in Python refers to the concurrent execution of multiple threads within a single process. Threads are lightweight sub-processes that share the same memory space.\n",
        "\n",
        "Why is it used?\n",
        "\n",
        "To improve the performance of programs, especially for I/O-bound tasks like file handling, network communication, etc.\n",
        "To perform multiple operations simultaneously without blocking the main thread.\n",
        "To efficiently utilize system resources.\n",
        "Module used to handle threads: The threading module is used for multithreading in Python."
      ],
      "metadata": {
        "id": "yyixCydzoRl2"
      }
    },
    {
      "cell_type": "markdown",
      "source": [
        "Q2. Why is the threading module used? Write the use of the following functions.\n",
        "The threading module provides an easy way to work with threads, enabling the creation and management of threads for multitasking.\n",
        "\n",
        "Functions:\n",
        "activeCount():\n",
        "\n",
        "Returns the number of currently active threads in the program."
      ],
      "metadata": {
        "id": "PHmwFOISoVde"
      }
    },
    {
      "cell_type": "markdown",
      "source": [],
      "metadata": {
        "id": "YlijfzB4oVUq"
      }
    },
    {
      "cell_type": "code",
      "execution_count": 3,
      "metadata": {
        "colab": {
          "base_uri": "https://localhost:8080/"
        },
        "id": "78roLNjRoMal",
        "outputId": "8c4d5037-4f5c-4c4b-bac8-c0e7604678fd"
      },
      "outputs": [
        {
          "output_type": "stream",
          "name": "stdout",
          "text": [
            "Active threads: 5\n"
          ]
        },
        {
          "output_type": "stream",
          "name": "stderr",
          "text": [
            "<ipython-input-3-4935354ab414>:2: DeprecationWarning: activeCount() is deprecated, use active_count() instead\n",
            "  print(\"Active threads:\", threading.activeCount())\n"
          ]
        }
      ],
      "source": [
        "import threading\n",
        "print(\"Active threads:\", threading.activeCount())\n"
      ]
    },
    {
      "cell_type": "markdown",
      "source": [
        "currentThread():\n",
        "\n",
        "Returns the Thread object corresponding to the currently executing thread."
      ],
      "metadata": {
        "id": "qafz2l1Toll2"
      }
    },
    {
      "cell_type": "markdown",
      "source": [
        "enumerate():\n",
        "\n",
        "Returns a list of all active threads."
      ],
      "metadata": {
        "id": "3OpY-eKioz5j"
      }
    },
    {
      "cell_type": "code",
      "source": [
        "import threading\n",
        "print(\"List of active threads:\", threading.enumerate())\n"
      ],
      "metadata": {
        "colab": {
          "base_uri": "https://localhost:8080/"
        },
        "id": "M8Z5OPbyocbC",
        "outputId": "2617dbc8-6fbf-4560-afa0-ee1619363b1b"
      },
      "execution_count": 4,
      "outputs": [
        {
          "output_type": "stream",
          "name": "stdout",
          "text": [
            "List of active threads: [<_MainThread(MainThread, started 137988018343936)>, <Thread(Thread-2 (_thread_main), started daemon 137987854140992)>, <Heartbeat(Thread-3, started daemon 137987845748288)>, <ParentPollerUnix(Thread-1, started daemon 137987597428288)>, <Thread(_colab_inspector_thread, started daemon 137987333535296)>]\n"
          ]
        }
      ]
    },
    {
      "cell_type": "markdown",
      "source": [
        "Q3. Explain the following functions:\n",
        "\n",
        "run():\n",
        "\n",
        "Defines the code executed by the thread when the thread’s start() method is called. This is overridden in a subclass."
      ],
      "metadata": {
        "id": "RS_ao3H9o7fD"
      }
    },
    {
      "cell_type": "code",
      "source": [
        "class MyThread(threading.Thread):\n",
        "    def run(self):\n",
        "        print(\"Thread is running\")\n"
      ],
      "metadata": {
        "id": "6SpwW0d6o26j"
      },
      "execution_count": 5,
      "outputs": []
    },
    {
      "cell_type": "markdown",
      "source": [
        "start():\n",
        "\n",
        "Begins the execution of the thread. Internally, it calls the thread’s run() method."
      ],
      "metadata": {
        "id": "ID4IiT7xpATk"
      }
    },
    {
      "cell_type": "code",
      "source": [
        "thread = threading.Thread(target=lambda: print(\"Thread started\"))\n",
        "thread.start()\n"
      ],
      "metadata": {
        "colab": {
          "base_uri": "https://localhost:8080/"
        },
        "id": "Zbn1pJFTpA4Z",
        "outputId": "ead815c9-a565-42ae-b001-ce5579f555d0"
      },
      "execution_count": 6,
      "outputs": [
        {
          "output_type": "stream",
          "name": "stdout",
          "text": [
            "Thread started\n"
          ]
        }
      ]
    },
    {
      "cell_type": "markdown",
      "source": [
        "join():\n",
        "\n",
        "Waits for the thread to finish execution before proceeding with the next line of code."
      ],
      "metadata": {
        "id": "4SECpJxlpJVa"
      }
    },
    {
      "cell_type": "code",
      "source": [
        "thread = threading.Thread(target=lambda: print(\"Thread execution\"))\n",
        "thread.start()\n",
        "thread.join()\n",
        "print(\"Thread has completed\")\n"
      ],
      "metadata": {
        "colab": {
          "base_uri": "https://localhost:8080/"
        },
        "id": "osZSKDRSpG3W",
        "outputId": "fd5950ed-ec73-4161-c5bc-b191cac7a231"
      },
      "execution_count": 7,
      "outputs": [
        {
          "output_type": "stream",
          "name": "stdout",
          "text": [
            "Thread execution\n",
            "Thread has completed\n"
          ]
        }
      ]
    },
    {
      "cell_type": "markdown",
      "source": [
        "isAlive():\n",
        "\n",
        "Returns True if the thread is still running, otherwise False."
      ],
      "metadata": {
        "id": "_kdhUxCOpON0"
      }
    },
    {
      "cell_type": "code",
      "source": [
        "thread = threading.Thread(target=lambda: print(\"Thread running\"))\n",
        "thread.start()\n",
        "print(\"Is thread alive?\", thread.is_alive())\n"
      ],
      "metadata": {
        "colab": {
          "base_uri": "https://localhost:8080/"
        },
        "id": "lIZ8Ez6YpLlB",
        "outputId": "6c75784f-9a6e-434a-eef2-9bb6c5744691"
      },
      "execution_count": 8,
      "outputs": [
        {
          "output_type": "stream",
          "name": "stdout",
          "text": [
            "Thread runningIs thread alive? True\n",
            "\n"
          ]
        }
      ]
    },
    {
      "cell_type": "markdown",
      "source": [
        "Q4. Write a Python program to create two threads: one for squares and one for cubes."
      ],
      "metadata": {
        "id": "jYk5rqhbpS_g"
      }
    },
    {
      "cell_type": "code",
      "source": [
        "import threading\n",
        "\n",
        "def print_squares(numbers):\n",
        "    print(\"Squares:\", [n ** 2 for n in numbers])\n",
        "\n",
        "def print_cubes(numbers):\n",
        "    print(\"Cubes:\", [n ** 3 for n in numbers])\n",
        "\n",
        "numbers = [1, 2, 3, 4, 5]\n",
        "\n",
        "# Create threads\n",
        "thread1 = threading.Thread(target=print_squares, args=(numbers,))\n",
        "thread2 = threading.Thread(target=print_cubes, args=(numbers,))\n",
        "\n",
        "# Start threads\n",
        "thread1.start()\n",
        "thread2.start()\n",
        "\n",
        "# Wait for threads to complete\n",
        "thread1.join()\n",
        "thread2.join()\n",
        "\n",
        "print(\"Both threads have completed.\")\n"
      ],
      "metadata": {
        "colab": {
          "base_uri": "https://localhost:8080/"
        },
        "id": "QHL0ahYCpQKB",
        "outputId": "09aa020a-4989-40af-d147-4955d81fcaa3"
      },
      "execution_count": 9,
      "outputs": [
        {
          "output_type": "stream",
          "name": "stdout",
          "text": [
            "Squares: [1, 4, 9, 16, 25]\n",
            "Cubes: [1, 8, 27, 64, 125]\n",
            "Both threads have completed.\n"
          ]
        }
      ]
    },
    {
      "cell_type": "markdown",
      "source": [
        "Q5. Advantages and Disadvantages of Multithreading\n",
        "\n",
        "Advantages:\n",
        "\n",
        "\n",
        "Efficient Resource Utilization:\n",
        "Threads share the same memory space, making them efficient in terms of memory usage.\n",
        "\n",
        "\n",
        "Concurrency:\n",
        "Allows multiple tasks to run concurrently, improving responsiveness, especially in I/O-bound operations.\n",
        "\n",
        "\n",
        "Simplifies Design:\n",
        "Can make it easier to implement complex, asynchronous tasks.\n",
        "\n",
        "\n",
        "Disadvantages:\n",
        "\n",
        "\n",
        "Global Interpreter Lock (GIL):\n",
        "In CPython, the GIL prevents true parallelism for CPU-bound tasks.\n",
        "\n",
        "\n",
        "Complex Debugging:\n",
        "Multithreaded programs are harder to debug and test due to potential issues like race conditions and deadlocks.\n",
        "\n",
        "\n",
        "Context Switching Overhead:\n",
        "Frequent switching between threads can reduce performance.\n"
      ],
      "metadata": {
        "id": "uxMd1NidpkU3"
      }
    },
    {
      "cell_type": "markdown",
      "source": [
        "Q6. Explain Deadlocks and Race Conditions.\n",
        "\n",
        "\n",
        "1. Deadlocks:\n",
        "\n",
        "A deadlock occurs when two or more threads are waiting for resources locked by each other, leading to a state where none of them can proceed.\n",
        "\n",
        "\n",
        "Example:"
      ],
      "metadata": {
        "id": "WMfj2_a0p1J7"
      }
    },
    {
      "cell_type": "code",
      "source": [
        "import threading\n",
        "\n",
        "lock1 = threading.Lock()\n",
        "lock2 = threading.Lock()\n",
        "\n",
        "def task1():\n",
        "    with lock1:\n",
        "        print(\"Task 1 acquired lock1\")\n",
        "        with lock2:\n",
        "            print(\"Task 1 acquired lock2\")\n",
        "\n",
        "def task2():\n",
        "    with lock2:\n",
        "        print(\"Task 2 acquired lock2\")\n",
        "        with lock1:\n",
        "            print(\"Task 2 acquired lock1\")\n",
        "\n",
        "thread1 = threading.Thread(target=task1)\n",
        "thread2 = threading.Thread(target=task2)\n",
        "\n",
        "thread1.start()\n",
        "thread2.start()\n",
        "\n",
        "thread1.join()\n",
        "thread2.join()\n"
      ],
      "metadata": {
        "colab": {
          "base_uri": "https://localhost:8080/"
        },
        "id": "NmIjuhA9pgJc",
        "outputId": "43287288-8ffc-4f31-f52f-cb73154ed302"
      },
      "execution_count": 10,
      "outputs": [
        {
          "output_type": "stream",
          "name": "stdout",
          "text": [
            "Task 1 acquired lock1\n",
            "Task 1 acquired lock2\n",
            "Task 2 acquired lock2\n",
            "Task 2 acquired lock1\n"
          ]
        }
      ]
    },
    {
      "cell_type": "markdown",
      "source": [
        "2. Race Conditions:\n",
        "A race condition occurs when multiple threads access shared resources concurrently, and the outcome depends on the thread execution order.\n",
        "\n",
        "Example:"
      ],
      "metadata": {
        "id": "UtPXn5Lzp-Ed"
      }
    },
    {
      "cell_type": "code",
      "source": [
        "counter = 0\n",
        "lock = threading.Lock()\n",
        "\n",
        "def increment():\n",
        "    global counter\n",
        "    for _ in range(100000):\n",
        "        with lock:\n",
        "            counter += 1\n",
        "\n",
        "thread1 = threading.Thread(target=increment)\n",
        "thread2 = threading.Thread(target=increment)\n",
        "\n",
        "thread1.start()\n",
        "thread2.start()\n",
        "\n",
        "thread1.join()\n",
        "thread2.join()\n",
        "\n",
        "print(\"Final Counter:\", counter)\n"
      ],
      "metadata": {
        "id": "3uaxzshfp7QW"
      },
      "execution_count": null,
      "outputs": []
    },
    {
      "cell_type": "code",
      "source": [],
      "metadata": {
        "id": "omq_SXq8qB0f"
      },
      "execution_count": null,
      "outputs": []
    }
  ]
}