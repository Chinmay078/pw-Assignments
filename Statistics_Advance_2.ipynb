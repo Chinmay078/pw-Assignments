{
  "nbformat": 4,
  "nbformat_minor": 0,
  "metadata": {
    "colab": {
      "provenance": []
    },
    "kernelspec": {
      "name": "python3",
      "display_name": "Python 3"
    },
    "language_info": {
      "name": "python"
    }
  },
  "cells": [
    {
      "cell_type": "markdown",
      "source": [
        "Q1: What are the Probability Mass Function (PMF) and Probability Density Function (PDF)? Explain with an example.\n",
        "\n",
        "PMF: The Probability Mass Function is used for discrete random variables and gives the probability that a discrete random variable is exactly equal to some value. For example, for a fair six-sided die, the PMF of rolling a 3 is\n",
        "𝑃\n",
        "(\n",
        "𝑋\n",
        "=\n",
        "3\n",
        ")\n",
        "=\n",
        "1\n",
        "6\n",
        "P(X=3)=\n",
        "6\n",
        "1\n",
        "​\n",
        " .\n",
        "\n",
        "PDF: The Probability Density Function is used for continuous random variables and describes the likelihood of a random variable falling within a particular range of values. For example, the height distribution of adults in a population can be modeled using a normal distribution PDF.\n",
        "\n",
        "Q2: What is Cumulative Density Function (CDF)? Explain with an example. Why CDF is used?\n",
        "\n",
        "CDF: The CDF gives the probability that a random variable is less than or equal to a certain value. It is defined as\n",
        "𝐹\n",
        "(\n",
        "𝑥\n",
        ")\n",
        "=\n",
        "𝑃\n",
        "(\n",
        "𝑋\n",
        "≤\n",
        "𝑥\n",
        ")\n",
        "F(x)=P(X≤x).\n",
        "Example: For a continuous random variable representing the time a student spends on homework, if the CDF at\n",
        "𝑥\n",
        "=\n",
        "2\n",
        "x=2 is 0.7, it means there is a 70% probability that a student spends 2 hours or less on homework.\n",
        "\n",
        "Why CDF is used: The CDF is used to determine probabilities over intervals, compare distributions, and compute quantiles.\n",
        "\n",
        "\n",
        "Q3: What are some examples of situations where the normal distribution might be used as a model? Explain how the parameters of the normal distribution relate to the shape of the distribution.\n",
        "\n",
        "\n",
        "Examples:\n",
        "\n",
        "Heights of people.\n",
        "Scores on standardized tests.\n",
        "Measurement errors in experiments.\n",
        "Parameters:\n",
        "\n",
        "Mean (\n",
        "𝜇\n",
        "μ): Determines the center of the distribution.\n",
        "Standard Deviation (\n",
        "𝜎\n",
        "σ): Determines the spread or width of the distribution. Larger\n",
        "𝜎\n",
        "σ results in a wider curve.\n",
        "\n",
        "\n",
        "Q4: Explain the importance of Normal Distribution. Give a few real-life examples of Normal Distribution.\n",
        "\n",
        "\n",
        "Importance:\n",
        "\n",
        "The normal distribution is foundational in statistics as many natural phenomena and sampling distributions tend to approximate it.\n",
        "It simplifies calculations and assumptions in hypothesis testing and confidence intervals.\n",
        "Examples:\n",
        "\n",
        "IQ scores.\n",
        "Errors in physical measurements.\n",
        "Stock market returns.\n",
        "\n",
        "\n",
        "Q5: What is Bernoulli Distribution? Give an Example. What is the difference between Bernoulli Distribution and Binomial Distribution?\n",
        "\n",
        "\n",
        "Bernoulli Distribution: Represents a single experiment with two outcomes (success/failure). For example, flipping a coin:\n",
        "𝑃\n",
        "(\n",
        "𝐻\n",
        "𝑒\n",
        "𝑎\n",
        "𝑑\n",
        ")\n",
        "=\n",
        "𝑝\n",
        "P(Head)=p,\n",
        "𝑃\n",
        "(\n",
        "𝑇\n",
        "𝑎\n",
        "𝑖\n",
        "𝑙\n",
        ")\n",
        "=\n",
        "1\n",
        "−\n",
        "𝑝\n",
        "P(Tail)=1−p.\n",
        "\n",
        "Binomial Distribution: Represents the number of successes in\n",
        "𝑛\n",
        "n independent Bernoulli trials. For example, flipping a coin 10 times and counting the number of heads.\n",
        "\n",
        "Key Difference: The Bernoulli distribution models a single trial, while the binomial distribution models multiple trials."
      ],
      "metadata": {
        "id": "4ogriXtDfFZ2"
      }
    },
    {
      "cell_type": "markdown",
      "source": [
        "Q6: Consider a dataset with a mean of 50 and a standard deviation of 10. If we assume that the dataset is normally distributed, what is the probability that a randomly selected observation will be greater than 60?"
      ],
      "metadata": {
        "id": "dghOFH7kfUPv"
      }
    },
    {
      "cell_type": "code",
      "execution_count": 1,
      "metadata": {
        "colab": {
          "base_uri": "https://localhost:8080/"
        },
        "id": "a0wBxN4VfBbB",
        "outputId": "0dd49c96-2ff7-494c-9f82-53809980f8cc"
      },
      "outputs": [
        {
          "output_type": "stream",
          "name": "stdout",
          "text": [
            "Probability of a value greater than 60: 0.1587\n"
          ]
        }
      ],
      "source": [
        "from scipy.stats import norm\n",
        "\n",
        "# Parameters\n",
        "mean = 50\n",
        "std_dev = 10\n",
        "x = 60\n",
        "\n",
        "# Calculate z-score\n",
        "z_score = (x - mean) / std_dev\n",
        "\n",
        "# Calculate the probability\n",
        "probability = 1 - norm.cdf(z_score)\n",
        "print(f\"Probability of a value greater than {x}: {probability:.4f}\")"
      ]
    },
    {
      "cell_type": "markdown",
      "source": [
        "Q7: Explain Uniform Distribution with an example.\n",
        "\n",
        "Uniform Distribution: All outcomes in a range are equally likely. It can be discrete or continuous.\n",
        "\n"
      ],
      "metadata": {
        "id": "R9AvVy40gCDJ"
      }
    },
    {
      "cell_type": "code",
      "source": [
        "import numpy as np\n",
        "import matplotlib.pyplot as plt\n",
        "\n",
        "# Parameters for uniform distribution\n",
        "low = 0  # Minimum value\n",
        "high = 10  # Maximum value\n",
        "size = 10000  # Number of samples\n",
        "\n",
        "# Generate uniform data\n",
        "data = np.random.uniform(low, high, size)\n",
        "\n",
        "# Plot histogram\n",
        "plt.hist(data, bins=30, edgecolor='k', alpha=0.7)\n",
        "plt.title(\"Uniform Distribution\")\n",
        "plt.xlabel(\"Value\")\n",
        "plt.ylabel(\"Frequency\")\n",
        "plt.show()"
      ],
      "metadata": {
        "colab": {
          "base_uri": "https://localhost:8080/",
          "height": 472
        },
        "id": "qv7V2G9sf-kj",
        "outputId": "3280a313-d131-48d2-91ba-64d569275b95"
      },
      "execution_count": 2,
      "outputs": [
        {
          "output_type": "display_data",
          "data": {
            "text/plain": [
              "<Figure size 640x480 with 1 Axes>"
            ],
            "image/png": "[encoded data removed]"
          },
          "metadata": {}
        }
      ]
    },
    {
      "cell_type": "markdown",
      "source": [
        "Q8: What is the z-score? State the importance of the z-score.\n"
      ],
      "metadata": {
        "id": "lynLdSGKgUd2"
      }
    },
    {
      "cell_type": "code",
      "source": [
        "mean = 100\n",
        "std_dev = 15\n",
        "x = 130\n",
        "\n",
        "# Calculate z-score\n",
        "z_score = (x - mean) / std_dev\n",
        "print(f\"z-score for X = {x}: {z_score:.2f}\")\n",
        "\n",
        "# Importance of z-score\n",
        "print(\"The z-score helps identify how many standard deviations a value is from the mean.\")\n",
        "print(\"It is useful for comparing data from different distributions or identifying outliers.\")"
      ],
      "metadata": {
        "colab": {
          "base_uri": "https://localhost:8080/"
        },
        "id": "enu1U6jbgJH9",
        "outputId": "24575f6b-d9ab-469a-b850-64ab04e7f1ef"
      },
      "execution_count": 3,
      "outputs": [
        {
          "output_type": "stream",
          "name": "stdout",
          "text": [
            "z-score for X = 130: 2.00\n",
            "The z-score helps identify how many standard deviations a value is from the mean.\n",
            "It is useful for comparing data from different distributions or identifying outliers.\n"
          ]
        }
      ]
    },
    {
      "cell_type": "markdown",
      "source": [
        "Q9: What is Central Limit Theorem? State the significance of the Central Limit Theorem.\n",
        "\n",
        "\n",
        "Central Limit Theorem (CLT): For a sufficiently large sample size, the sampling distribution of the sample mean will be approximately normal, regardless of the population distribution.\n",
        "Significance:\n",
        "\n",
        "Enables inference about population parameters using sample statistics.\n",
        "Forms the basis of many statistical methods, including hypothesis testing."
      ],
      "metadata": {
        "id": "lrLZjEBkg-kk"
      }
    },
    {
      "cell_type": "markdown",
      "source": [
        "Q10: State the assumptions of the Central Limit Theorem.\n",
        "\n",
        "\n",
        "Random sampling: Samples must be independent and randomly selected.\n",
        "Sample size: Larger sample sizes lead to better approximation.\n",
        "Finite variance: The population must have a finite variance."
      ],
      "metadata": {
        "id": "ks6scZIshBU_"
      }
    },
    {
      "cell_type": "code",
      "source": [],
      "metadata": {
        "id": "aEnnq6qXgey9"
      },
      "execution_count": null,
      "outputs": []
    }
  ]
}