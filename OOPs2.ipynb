{
 "cells": [
  {
   "cell_type": "markdown",
   "id": "80d07533-acb4-4e4f-a1e4-83d48671ce4f",
   "metadata": {},
   "source": [
    "Q1. Explain Class and Object with respect to Object-Oriented Programming. Give a suitable example."
   ]
  },
  {
   "cell_type": "markdown",
   "id": "a0776a89-7cba-40ea-8260-f225f72a62cd",
   "metadata": {},
   "source": [
    "In object-oriented programming (OOP), a class is a blueprint or a template for creating objects. It defines a set of attributes and methods that the objects created from the class will have. An object, on the other hand, is an instance of a class – a concrete realization of the class blueprint.\n",
    "\n"
   ]
  },
  {
   "cell_type": "code",
   "execution_count": 1,
   "id": "70f519cb-83d7-4b9f-8cac-5adc56a75df5",
   "metadata": {},
   "outputs": [
    {
     "name": "stdout",
     "output_type": "stream",
     "text": [
      "Toyota supra\n",
      "Honda city\n"
     ]
    }
   ],
   "source": [
    "class Car:\n",
    "    def __init__(self, make, model):\n",
    "        self.make = make\n",
    "        self.model = model\n",
    "\n",
    "    def display_info(self):\n",
    "        print(f\"{self.make} {self.model}\")\n",
    "car1 = Car(\"Toyota\", \"supra\")\n",
    "car2 = Car(\"Honda\", \"city\")\n",
    "\n",
    "# Using object methods\n",
    "car1.display_info()  \n",
    "car2.display_info()  \n"
   ]
  },
  {
   "cell_type": "markdown",
   "id": "3d9f9848-8e3e-4c42-be15-a7c5e0d25e2a",
   "metadata": {},
   "source": [
    "Q2. Name the four pillars of OOPs."
   ]
  },
  {
   "cell_type": "markdown",
   "id": "a0b00491-39f6-48f2-b401-997b20ac55a8",
   "metadata": {},
   "source": [
    "Encapsulation: Bundling data and methods that operate on the data into a single unit (class).\n",
    "\n",
    "Inheritance: Mechanism for creating a new class by inheriting properties and behaviors from an existing class.\n",
    "\n",
    "Abstraction: Reducing complex systems to simpler representations. It involves showing only the necessary features of an object and hiding the unnecessary details.\n",
    "\n",
    "Polymorphism: The ability of a class to take on multiple forms. It allows objects of different classes to be treated as objects of a common base class."
   ]
  },
  {
   "cell_type": "markdown",
   "id": "7b1560d3-fa77-4292-ad3a-6561acea64a1",
   "metadata": {},
   "source": [
    "Q3. Explain why the __init__() function is used. Give a suitable example."
   ]
  },
  {
   "cell_type": "markdown",
   "id": "bce7da33-1535-4b0d-8253-c79466d1f183",
   "metadata": {},
   "source": [
    "The __init__() function in Python is a special method (constructor) that is automatically called when an object is created from a class. It is used to initialize the attributes of the object.\n",
    "\n"
   ]
  },
  {
   "cell_type": "code",
   "execution_count": 2,
   "id": "1ce5d4b2-f96c-4c2a-a499-d8bdab42626f",
   "metadata": {},
   "outputs": [
    {
     "name": "stdout",
     "output_type": "stream",
     "text": [
      "Buddy is 3 years old.\n",
      "Max says Woof!\n"
     ]
    }
   ],
   "source": [
    "class Dog:\n",
    "    def __init__(self, name, age):\n",
    "        self.name = name\n",
    "        self.age = age\n",
    "\n",
    "    def bark(self):\n",
    "        print(f\"{self.name} says Woof!\")\n",
    "\n",
    "dog1 = Dog(\"Buddy\", 3)\n",
    "dog2 = Dog(\"Max\", 5)\n",
    "\n",
    "print(f\"{dog1.name} is {dog1.age} years old.\")\n",
    "dog2.bark() \n"
   ]
  },
  {
   "cell_type": "markdown",
   "id": "e4591e9d-8d8b-4311-971e-d9c93843c9cc",
   "metadata": {},
   "source": [
    "Q4. Why self is used in OOPs?"
   ]
  },
  {
   "cell_type": "markdown",
   "id": "c2ef5eb1-9416-46b9-a1f5-5e7b594a1faf",
   "metadata": {},
   "source": [
    "In OOP, self is a convention used in Python to represent the instance of the class. It is the first parameter in the method definition and refers to the instance of the class itself. When you call a method on an object, self is implicitly passed, allowing the method to access and manipulate the object's attributes."
   ]
  },
  {
   "cell_type": "code",
   "execution_count": 3,
   "id": "c6a4894c-b295-441a-9a17-ccdda1d6bb24",
   "metadata": {},
   "outputs": [
    {
     "name": "stdout",
     "output_type": "stream",
     "text": [
      "The area of the circle is: 78.5\n"
     ]
    }
   ],
   "source": [
    "class Circle:\n",
    "    def __init__(self, radius):\n",
    "        self.radius = radius\n",
    "\n",
    "    def calculate_area(self):\n",
    "        return 3.14 * self.radius**2\n",
    "\n",
    "circle1 = Circle(5)\n",
    "area = circle1.calculate_area()\n",
    "print(f\"The area of the circle is: {area}\")"
   ]
  },
  {
   "cell_type": "markdown",
   "id": "2ed55665-08cd-43f7-970c-4be7a3570466",
   "metadata": {},
   "source": [
    "Q5. What is inheritance? Give an example for each type of inheritance."
   ]
  },
  {
   "cell_type": "markdown",
   "id": "3632c473-1e8b-47fd-ba1e-6e8d1e2a334f",
   "metadata": {},
   "source": [
    "Inheritance is a fundamental concept in OOP that allows a new class (subclass/derived class) to inherit properties and behaviors from an existing class (superclass/base class). There are several types of inheritance"
   ]
  },
  {
   "cell_type": "markdown",
   "id": "b0863df5-5af4-4e35-939b-0fd1c6d99d8b",
   "metadata": {},
   "source": [
    "1.single inheritance"
   ]
  },
  {
   "cell_type": "code",
   "execution_count": 4,
   "id": "5fdafc51-6a28-44ec-979a-673cbb3d5130",
   "metadata": {},
   "outputs": [
    {
     "name": "stdout",
     "output_type": "stream",
     "text": [
      "Animal speaks\n",
      "Dog barks\n"
     ]
    }
   ],
   "source": [
    "class Animal:\n",
    "    def speak(self):\n",
    "        print(\"Animal speaks\")\n",
    "\n",
    "class Dog(Animal):\n",
    "    def bark(self):\n",
    "        print(\"Dog barks\")\n",
    "my_dog = Dog()\n",
    "my_dog.speak() \n",
    "my_dog.bark()   \n"
   ]
  },
  {
   "cell_type": "markdown",
   "id": "123e4c45-7d4b-4463-b0df-99abc43ad406",
   "metadata": {},
   "source": [
    "2. multiple inheritance"
   ]
  },
  {
   "cell_type": "code",
   "execution_count": 5,
   "id": "6df73ca6-3d84-485b-b7d9-047b73dfa86b",
   "metadata": {},
   "outputs": [
    {
     "name": "stdout",
     "output_type": "stream",
     "text": [
      "Class A\n",
      "Class B\n",
      "Class C\n"
     ]
    }
   ],
   "source": [
    "class A:\n",
    "    def display_A(self):\n",
    "        print(\"Class A\")\n",
    "\n",
    "class B:\n",
    "    def display_B(self):\n",
    "        print(\"Class B\")\n",
    "\n",
    "class C(A, B):\n",
    "    def display_C(self):\n",
    "        print(\"Class C\")\n",
    "\n",
    "obj_C = C()\n",
    "obj_C.display_A() \n",
    "obj_C.display_B()  \n",
    "obj_C.display_C()  \n"
   ]
  },
  {
   "cell_type": "markdown",
   "id": "858635b2-4af5-4e20-bcdb-ee54e9ce3f2d",
   "metadata": {},
   "source": [
    "3. multilevel inheritance"
   ]
  },
  {
   "cell_type": "code",
   "execution_count": 7,
   "id": "1a0ba57e-8d5a-4ddf-b565-e5eb99fd287e",
   "metadata": {},
   "outputs": [
    {
     "name": "stdout",
     "output_type": "stream",
     "text": [
      "Class A speaks\n",
      "Class B barks\n",
      "Class C meows\n"
     ]
    }
   ],
   "source": [
    "class A:\n",
    "    def speak(self):\n",
    "        print(\"Class A speaks\")\n",
    "\n",
    "class B(A):\n",
    "    def bark(self):\n",
    "        print(\"Class B barks\")\n",
    "\n",
    "class C(B):\n",
    "    def meow(self):\n",
    "        print(\"Class C meows\")\n",
    "\n",
    "# Example\n",
    "obj_C = C()\n",
    "obj_C.speak()\n",
    "obj_C.bark() \n",
    "obj_C.meow()   \n"
   ]
  },
  {
   "cell_type": "markdown",
   "id": "75bd96cd-86a1-4570-b00a-a035b4b2e41c",
   "metadata": {},
   "source": [
    "4. hierarchical inheritance"
   ]
  },
  {
   "cell_type": "code",
   "execution_count": 8,
   "id": "7b63ea53-ed29-4b6d-9ef6-57b585897ad1",
   "metadata": {},
   "outputs": [
    {
     "name": "stdout",
     "output_type": "stream",
     "text": [
      "Drawing a circle\n",
      "Drawing a square\n"
     ]
    }
   ],
   "source": [
    "class Shape:\n",
    "    def draw(self):\n",
    "        print(\"Drawing a shape\")\n",
    "\n",
    "class Circle(Shape):\n",
    "    def draw(self):\n",
    "        print(\"Drawing a circle\")\n",
    "\n",
    "class Square(Shape):\n",
    "    def draw(self):\n",
    "        print(\"Drawing a square\")\n",
    "circle = Circle()\n",
    "square = Square()\n",
    "circle.draw() \n",
    "square.draw()  \n"
   ]
  },
  {
   "cell_type": "code",
   "execution_count": null,
   "id": "99ace4dd-c483-4ad2-a57f-85ff16bc79ce",
   "metadata": {},
   "outputs": [],
   "source": []
  }
 ],
 "metadata": {
  "kernelspec": {
   "display_name": "Python 3 (ipykernel)",
   "language": "python",
   "name": "python3"
  },
  "language_info": {
   "codemirror_mode": {
    "name": "ipython",
    "version": 3
   },
   "file_extension": ".py",
   "mimetype": "text/x-python",
   "name": "python",
   "nbconvert_exporter": "python",
   "pygments_lexer": "ipython3",
   "version": "3.10.8"
  }
 },
 "nbformat": 4,
 "nbformat_minor": 5
}
