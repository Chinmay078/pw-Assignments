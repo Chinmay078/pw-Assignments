{
  "nbformat": 4,
  "nbformat_minor": 0,
  "metadata": {
    "colab": {
      "provenance": []
    },
    "kernelspec": {
      "name": "python3",
      "display_name": "Python 3"
    },
    "language_info": {
      "name": "python"
    }
  },
  "cells": [
    {
      "cell_type": "markdown",
      "source": [
        "\n",
        "Q1. Five functions of the pandas library with execution\n"
      ],
      "metadata": {
        "id": "eoRCkV14ftD3"
      }
    },
    {
      "cell_type": "code",
      "execution_count": 1,
      "metadata": {
        "colab": {
          "base_uri": "https://localhost:8080/"
        },
        "id": "iFK2VdTMfrUN",
        "outputId": "e6a3f55b-4e6c-42a7-da18-d9fe736b11dd"
      },
      "outputs": [
        {
          "output_type": "stream",
          "name": "stdout",
          "text": [
            "DataFrame:\n",
            "      Name  Age\n",
            "0    Alice   25\n",
            "1      Bob   30\n",
            "2  Charlie   35\n",
            "\n",
            "Describe:\n",
            "        Age\n",
            "count   3.0\n",
            "mean   30.0\n",
            "std     5.0\n",
            "min    25.0\n",
            "25%    27.5\n",
            "50%    30.0\n",
            "75%    32.5\n",
            "max    35.0\n",
            "\n",
            "Check for null values:\n",
            "    Name    Age\n",
            "0  False  False\n",
            "1  False  False\n",
            "2  False  False\n",
            "\n",
            "After adding a column:\n",
            "      Name  Age Country\n",
            "0    Alice   25     USA\n",
            "1      Bob   30      UK\n",
            "2  Charlie   35  Canada\n",
            "\n",
            "Grouped by 'Country':\n",
            "Country\n",
            "Canada    35.0\n",
            "UK        30.0\n",
            "USA       25.0\n",
            "Name: Age, dtype: float64\n"
          ]
        }
      ],
      "source": [
        "import pandas as pd\n",
        "\n",
        "# 1. Creating a DataFrame\n",
        "data = {'Name': ['Alice', 'Bob', 'Charlie'], 'Age': [25, 30, 35]}\n",
        "df = pd.DataFrame(data)\n",
        "print(\"DataFrame:\")\n",
        "print(df)\n",
        "\n",
        "# 2. Describing a DataFrame\n",
        "print(\"\\nDescribe:\")\n",
        "print(df.describe())\n",
        "\n",
        "# 3. Checking for null values\n",
        "print(\"\\nCheck for null values:\")\n",
        "print(df.isnull())\n",
        "\n",
        "# 4. Adding a new column\n",
        "df['Country'] = ['USA', 'UK', 'Canada']\n",
        "print(\"\\nAfter adding a column:\")\n",
        "print(df)\n",
        "\n",
        "# 5. Grouping by a column\n",
        "grouped = df.groupby('Country')['Age'].mean()\n",
        "print(\"\\nGrouped by 'Country':\")\n",
        "print(grouped)\n"
      ]
    },
    {
      "cell_type": "markdown",
      "source": [
        "Q2. Re-indexing DataFrame with a new index"
      ],
      "metadata": {
        "id": "V868-meaf77M"
      }
    },
    {
      "cell_type": "code",
      "source": [
        "def reindex_dataframe(df):\n",
        "    df.index = range(1, len(df) * 2, 2)\n",
        "    return df\n"
      ],
      "metadata": {
        "id": "dwUO91dYf3dF"
      },
      "execution_count": 2,
      "outputs": []
    },
    {
      "cell_type": "markdown",
      "source": [
        "Q3. Sum of the first three values in the 'Values' column"
      ],
      "metadata": {
        "id": "WvCapo4rgFGm"
      }
    },
    {
      "cell_type": "code",
      "source": [
        "def sum_first_three(df):\n",
        "    total = df['Values'][:3].sum()\n",
        "    print(f\"Sum of the first three values: {total}\")\n"
      ],
      "metadata": {
        "id": "DvihAjlgf9bU"
      },
      "execution_count": 4,
      "outputs": []
    },
    {
      "cell_type": "markdown",
      "source": [
        "Q4. Creating a 'Word_Count' column"
      ],
      "metadata": {
        "id": "Wq2TT7dngJo-"
      }
    },
    {
      "cell_type": "code",
      "source": [
        "def add_word_count(df):\n",
        "    df['Word_Count'] = df['Text'].apply(lambda x: len(x.split()))\n",
        "    return df\n"
      ],
      "metadata": {
        "id": "u4Y-AHsagCX-"
      },
      "execution_count": 5,
      "outputs": []
    },
    {
      "cell_type": "markdown",
      "source": [
        "Q5. Difference between DataFrame.size and DataFrame.shape\n",
        "\n",
        "DataFrame.size: Returns the total number of elements in the DataFrame (rows × columns).\n",
        "\n",
        "DataFrame.shape: Returns a tuple representing the number of rows and columns."
      ],
      "metadata": {
        "id": "imHh5pjhgPVA"
      }
    },
    {
      "cell_type": "markdown",
      "source": [
        "Q6. Function to read an Excel file\n",
        "\n",
        "Use pd.read_excel().\n"
      ],
      "metadata": {
        "id": "8xb8rcpDgXP8"
      }
    },
    {
      "cell_type": "markdown",
      "source": [
        "Q7. Extracting username from email"
      ],
      "metadata": {
        "id": "0gsGo3twgXHf"
      }
    },
    {
      "cell_type": "code",
      "source": [
        "def extract_username(df):\n",
        "    df['Username'] = df['Email'].apply(lambda x: x.split('@')[0])\n",
        "    return df\n"
      ],
      "metadata": {
        "id": "vOs6jlrYgSMx"
      },
      "execution_count": 6,
      "outputs": []
    },
    {
      "cell_type": "markdown",
      "source": [
        "Q8. Selecting rows based on conditions"
      ],
      "metadata": {
        "id": "TlG3MkQLgdQw"
      }
    },
    {
      "cell_type": "code",
      "source": [
        "def select_rows(df):\n",
        "    return df[(df['A'] > 5) & (df['B'] < 10)]\n"
      ],
      "metadata": {
        "id": "L2v5wekYgbMg"
      },
      "execution_count": 7,
      "outputs": []
    },
    {
      "cell_type": "markdown",
      "source": [
        "Q9. Calculating mean, median, and standard deviation"
      ],
      "metadata": {
        "id": "xYez7wPlgg79"
      }
    },
    {
      "cell_type": "code",
      "source": [
        "def calculate_stats(df):\n",
        "    mean = df['Values'].mean()\n",
        "    median = df['Values'].median()\n",
        "    std = df['Values'].std()\n",
        "    return mean, median, std\n"
      ],
      "metadata": {
        "id": "eXW81JYCge1_"
      },
      "execution_count": 8,
      "outputs": []
    },
    {
      "cell_type": "markdown",
      "source": [
        "Q10. Calculating moving average for the 'Sales' column"
      ],
      "metadata": {
        "id": "3bJ_wQSdgkVt"
      }
    },
    {
      "cell_type": "code",
      "source": [
        "def calculate_moving_average(df):\n",
        "    df['MovingAverage'] = df['Sales'].rolling(window=7).mean()\n",
        "    return df\n"
      ],
      "metadata": {
        "id": "kfdpssPOgiQ5"
      },
      "execution_count": 9,
      "outputs": []
    },
    {
      "cell_type": "markdown",
      "source": [
        "Q11. Creating 'Weekday' column from 'Date'"
      ],
      "metadata": {
        "id": "KQ3BeRevgsNE"
      }
    },
    {
      "cell_type": "code",
      "source": [
        "def add_weekday(df):\n",
        "    df['Date'] = pd.to_datetime(df['Date'])\n",
        "    df['Weekday'] = df['Date'].dt.day_name()\n",
        "    return df\n"
      ],
      "metadata": {
        "id": "5ESx9SjcglhA"
      },
      "execution_count": 10,
      "outputs": []
    },
    {
      "cell_type": "markdown",
      "source": [
        "Q12. Selecting rows within a date range"
      ],
      "metadata": {
        "id": "OZm9QQSzgvu6"
      }
    },
    {
      "cell_type": "code",
      "source": [
        "def filter_by_date(df):\n",
        "    df['Date'] = pd.to_datetime(df['Date'])\n",
        "    return df[(df['Date'] >= '2023-01-01') & (df['Date'] <= '2023-01-31')]\n"
      ],
      "metadata": {
        "id": "VTdwFI3vgtfk"
      },
      "execution_count": 11,
      "outputs": []
    },
    {
      "cell_type": "markdown",
      "source": [
        "Q13. Necessary library to import for pandas"
      ],
      "metadata": {
        "id": "-9iMyazugy1k"
      }
    },
    {
      "cell_type": "code",
      "source": [
        "import pandas as pd\n"
      ],
      "metadata": {
        "id": "57J5adJBgw8j"
      },
      "execution_count": 12,
      "outputs": []
    },
    {
      "cell_type": "code",
      "source": [],
      "metadata": {
        "id": "IWE251dMgz8K"
      },
      "execution_count": null,
      "outputs": []
    }
  ]
}