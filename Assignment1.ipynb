{
 "cells": [
  {
   "cell_type": "markdown",
   "id": "8099c1ee-e0d5-4202-ad69-b7f366d4d83e",
   "metadata": {},
   "source": [
    "Q1. Create one variable containing following type of data:\n",
    "(i) string\n",
    "(ii) list\n",
    "(iii) float\n",
    "(iv) tuple"
   ]
  },
  {
   "cell_type": "code",
   "execution_count": 1,
   "id": "3bd9c3c3-5e8d-4a17-8dc3-21b3c67ee021",
   "metadata": {},
   "outputs": [],
   "source": [
    "s=\"pw skills\"\n",
    "l=[23,\"Chinmay\",89.06,\"om\"]\n",
    "f=3.14\n",
    "t=(10,20,30,40,50,60)"
   ]
  },
  {
   "cell_type": "markdown",
   "id": "96db9390-41ed-4cf9-83b4-f30806d0a388",
   "metadata": {},
   "source": [
    "Q2. Given are some following variables containing data:\n",
    "(i) var1 = ‘ ‘\n",
    "(ii) var2 = ‘[ DS , ML , Python]’\n",
    "(iii) var3 = [ ‘DS’ , ’ML’ , ‘Python’ ]\n",
    "(iv) var4 = 1.\n",
    "What will be the data type of the above given variable."
   ]
  },
  {
   "cell_type": "code",
   "execution_count": 2,
   "id": "44ecd2bb-cebb-4613-81b3-eed8485c457d",
   "metadata": {},
   "outputs": [],
   "source": [
    "var1 = ''\n",
    "var2 = '[ DS , ML , Python]'\n",
    "var3 = [ 'DS' , 'ML' , 'Python' ]\n",
    "var4 = 1."
   ]
  },
  {
   "cell_type": "code",
   "execution_count": 3,
   "id": "9a2af059-7f30-4dd6-80a1-5bf134f732b6",
   "metadata": {},
   "outputs": [
    {
     "data": {
      "text/plain": [
       "str"
      ]
     },
     "execution_count": 3,
     "metadata": {},
     "output_type": "execute_result"
    }
   ],
   "source": [
    "type(var1)\n"
   ]
  },
  {
   "cell_type": "code",
   "execution_count": 4,
   "id": "a73b86e1-7273-4896-93ac-4409bd309f2d",
   "metadata": {},
   "outputs": [
    {
     "data": {
      "text/plain": [
       "str"
      ]
     },
     "execution_count": 4,
     "metadata": {},
     "output_type": "execute_result"
    }
   ],
   "source": [
    "type(var2)\n"
   ]
  },
  {
   "cell_type": "code",
   "execution_count": 5,
   "id": "76617c7c-851d-4be5-b9cd-8e21a2bc94fd",
   "metadata": {},
   "outputs": [
    {
     "data": {
      "text/plain": [
       "list"
      ]
     },
     "execution_count": 5,
     "metadata": {},
     "output_type": "execute_result"
    }
   ],
   "source": [
    "type(var3)\n"
   ]
  },
  {
   "cell_type": "code",
   "execution_count": 6,
   "id": "0d67bef1-792a-46ac-a286-f84f56d81358",
   "metadata": {},
   "outputs": [
    {
     "data": {
      "text/plain": [
       "float"
      ]
     },
     "execution_count": 6,
     "metadata": {},
     "output_type": "execute_result"
    }
   ],
   "source": [
    "type(var4)"
   ]
  },
  {
   "cell_type": "markdown",
   "id": "785e9d82-45ed-48e4-81ae-566e08bcad58",
   "metadata": {},
   "source": [
    "Q3. Explain the use of the following operators using an example:\n",
    "(i) /\n",
    "(ii) %\n",
    "(iii) //\n",
    "(iv) **"
   ]
  },
  {
   "cell_type": "code",
   "execution_count": 7,
   "id": "2d790384-1bd1-44a2-bddb-afa81621a0eb",
   "metadata": {},
   "outputs": [
    {
     "name": "stdout",
     "output_type": "stream",
     "text": [
      "3.0\n"
     ]
    }
   ],
   "source": [
    "# '/' is used for divison\n",
    "print(9/3)"
   ]
  },
  {
   "cell_type": "code",
   "execution_count": 8,
   "id": "5a1c42f1-2fa7-45cb-9522-0b528a045bb3",
   "metadata": {},
   "outputs": [
    {
     "name": "stdout",
     "output_type": "stream",
     "text": [
      "1\n"
     ]
    }
   ],
   "source": [
    "# '%' is used for remainder\n",
    "print(10%3)"
   ]
  },
  {
   "cell_type": "code",
   "execution_count": 9,
   "id": "72e527a2-8167-49fa-b6b4-c919bd76cca3",
   "metadata": {},
   "outputs": [
    {
     "name": "stdout",
     "output_type": "stream",
     "text": [
      "3\n"
     ]
    }
   ],
   "source": [
    "# '//' is used for taking int value of quotient \n",
    "print(10//3)"
   ]
  },
  {
   "cell_type": "code",
   "execution_count": 10,
   "id": "c8f92b8e-d7ce-49ea-9beb-2acd84279e0b",
   "metadata": {},
   "outputs": [
    {
     "name": "stdout",
     "output_type": "stream",
     "text": [
      "8\n"
     ]
    }
   ],
   "source": [
    "# '**' is used for taking power of the number\n",
    "print(2**3) #means 2 to the power 3"
   ]
  },
  {
   "cell_type": "markdown",
   "id": "1a8a5a54-8118-49d9-8fa5-235348f2033f",
   "metadata": {},
   "source": [
    "Q4. Create a list of length 10 of your choice containing multiple types of data. Using for loop print the\n",
    "element and its data type.\n"
   ]
  },
  {
   "cell_type": "code",
   "execution_count": 11,
   "id": "f3a3979d-3f94-48fa-a5d3-cd891852b335",
   "metadata": {},
   "outputs": [],
   "source": [
    "l=[20,45,\"chinmay\",\"sahil\",78.90,78,True,\"rahul\",False,7]"
   ]
  },
  {
   "cell_type": "code",
   "execution_count": 12,
   "id": "86436d75-86d7-473d-b6f7-ade17060ee93",
   "metadata": {},
   "outputs": [
    {
     "name": "stdout",
     "output_type": "stream",
     "text": [
      "20: <class 'int'>\n",
      "45: <class 'int'>\n",
      "chinmay: <class 'str'>\n",
      "sahil: <class 'str'>\n",
      "78.9: <class 'float'>\n",
      "78: <class 'int'>\n",
      "True: <class 'bool'>\n",
      "rahul: <class 'str'>\n",
      "False: <class 'bool'>\n",
      "7: <class 'int'>\n"
     ]
    }
   ],
   "source": [
    "for item in l:\n",
    "    print(f\"{item}: {type(item)}\") "
   ]
  },
  {
   "cell_type": "markdown",
   "id": "2ccc3aff-7ed6-4a1c-94c0-010f5de5af55",
   "metadata": {},
   "source": [
    "Q5. Using a while loop, verify if the number A is purely divisible by number B and if so then how many\n",
    "times it can be divisible."
   ]
  },
  {
   "cell_type": "code",
   "execution_count": null,
   "id": "9af891de-e6c3-477b-be11-0b5bde161508",
   "metadata": {},
   "outputs": [],
   "source": [
    "a= 18\n",
    "b=3\n",
    "count=0\n",
    "while a%b==0 :\n",
    "    count+=1\n",
    "print(a,\"divisible by\",b,count,\"times\")"
   ]
  },
  {
   "cell_type": "markdown",
   "id": "f85b4b26-1446-43e3-900e-a9078aae5d77",
   "metadata": {},
   "source": [
    "Q6. Create a list containing 25 int type data. Using for loop and if-else condition print if the element is\n",
    "divisible by 3 or not."
   ]
  },
  {
   "cell_type": "code",
   "execution_count": null,
   "id": "b11f26a1-63e3-48d0-94da-92a4f9889c5e",
   "metadata": {},
   "outputs": [],
   "source": [
    "l=list(range(1,26))\n",
    "\n",
    "for i in range(len(l)):\n",
    "    if i % 3==0:\n",
    "        print(f\"{i} is divisible by 3.\")\n",
    "    else :\n",
    "        print(f\"{i} is not divisible by 3.\")"
   ]
  },
  {
   "cell_type": "markdown",
   "id": "e15b8868-3d97-46ef-99b9-aaad60a85f6f",
   "metadata": {},
   "source": [
    "Q7. What do you understand about mutable and immutable data types? Give examples for both showing\n",
    "this property."
   ]
  },
  {
   "cell_type": "markdown",
   "id": "fec508f9-84c4-4a59-b941-29ac77f01ce1",
   "metadata": {},
   "source": [
    "mutable data type :\n",
    "    1.It is the data which can be modify \n",
    "    2.List is the example of mutable data\n",
    "    3.It takes more space and time than immutable data types\n",
    "    \n",
    "immutable data type :\n",
    "    1. It is the data which can't modify\n",
    "    2.tuple is the example of immutable data type"
   ]
  },
  {
   "cell_type": "code",
   "execution_count": 1,
   "id": "781f2815-db54-4bcc-aabf-54fdc5bafadf",
   "metadata": {},
   "outputs": [],
   "source": [
    "l=[1,2,3]\n"
   ]
  },
  {
   "cell_type": "code",
   "execution_count": 2,
   "id": "99d78a7c-8d2d-4b98-89ce-ad25274ec0d8",
   "metadata": {},
   "outputs": [
    {
     "data": {
      "text/plain": [
       "[1, 2, 3]"
      ]
     },
     "execution_count": 2,
     "metadata": {},
     "output_type": "execute_result"
    }
   ],
   "source": [
    "l"
   ]
  },
  {
   "cell_type": "code",
   "execution_count": 3,
   "id": "5438a372-a634-49a8-94e1-114cea051f1a",
   "metadata": {},
   "outputs": [],
   "source": [
    "l[0]=8"
   ]
  },
  {
   "cell_type": "code",
   "execution_count": 4,
   "id": "ba61b46d-0c9e-4619-adc8-3fef937bdfe1",
   "metadata": {},
   "outputs": [
    {
     "data": {
      "text/plain": [
       "[8, 2, 3]"
      ]
     },
     "execution_count": 4,
     "metadata": {},
     "output_type": "execute_result"
    }
   ],
   "source": [
    "l"
   ]
  },
  {
   "cell_type": "code",
   "execution_count": 5,
   "id": "5ac9afa0-78ea-4c3c-99f7-5ff5db86a24d",
   "metadata": {},
   "outputs": [],
   "source": [
    "t=(1,2,3)"
   ]
  },
  {
   "cell_type": "code",
   "execution_count": 6,
   "id": "4b6466e3-16b5-470a-8901-dfe207616fbe",
   "metadata": {},
   "outputs": [
    {
     "ename": "TypeError",
     "evalue": "'tuple' object does not support item assignment",
     "output_type": "error",
     "traceback": [
      "\u001b[0;31m---------------------------------------------------------------------------\u001b[0m",
      "\u001b[0;31mTypeError\u001b[0m                                 Traceback (most recent call last)",
      "Cell \u001b[0;32mIn[6], line 1\u001b[0m\n\u001b[0;32m----> 1\u001b[0m \u001b[43mt\u001b[49m\u001b[43m[\u001b[49m\u001b[38;5;241;43m0\u001b[39;49m\u001b[43m]\u001b[49m\u001b[38;5;241m=\u001b[39m\u001b[38;5;241m6\u001b[39m\n",
      "\u001b[0;31mTypeError\u001b[0m: 'tuple' object does not support item assignment"
     ]
    }
   ],
   "source": [
    "t[0]=6"
   ]
  },
  {
   "cell_type": "markdown",
   "id": "c2464c84-061a-4473-a357-3646ef999b9e",
   "metadata": {},
   "source": [
    "As you can see it throws error in tuple"
   ]
  },
  {
   "cell_type": "code",
   "execution_count": null,
   "id": "ab273559-5fe0-4b6a-9ffe-ff75d808de05",
   "metadata": {},
   "outputs": [],
   "source": []
  }
 ],
 "metadata": {
  "kernelspec": {
   "display_name": "Python 3 (ipykernel)",
   "language": "python",
   "name": "python3"
  },
  "language_info": {
   "codemirror_mode": {
    "name": "ipython",
    "version": 3
   },
   "file_extension": ".py",
   "mimetype": "text/x-python",
   "name": "python",
   "nbconvert_exporter": "python",
   "pygments_lexer": "ipython3",
   "version": "3.10.8"
  }
 },
 "nbformat": 4,
 "nbformat_minor": 5
}
