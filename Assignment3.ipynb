{
 "cells": [
  {
   "cell_type": "markdown",
   "id": "330d1d52-79b7-421e-9d7a-4f421bcb2337",
   "metadata": {},
   "source": [
    "Q1. Which keyword is used to create a function? Create a function to return a list of odd numbers in the\n",
    "range of 1 to 25."
   ]
  },
  {
   "cell_type": "markdown",
   "id": "de739e9d-c9b5-4686-b27a-651186740f7c",
   "metadata": {},
   "source": [
    "in python , 'def' keyword is used to create a function."
   ]
  },
  {
   "cell_type": "code",
   "execution_count": 1,
   "id": "6d8313ee-dcba-4ea2-ad79-7f9cf7dac586",
   "metadata": {},
   "outputs": [
    {
     "name": "stdout",
     "output_type": "stream",
     "text": [
      "[1, 3, 5, 7, 9, 11, 13, 15, 17, 19, 21, 23, 25]\n"
     ]
    }
   ],
   "source": [
    "def odd_number():\n",
    "    return [ i for i in range(1,26) if i %2 !=0]\n",
    "\n",
    "print(odd_number())"
   ]
  },
  {
   "cell_type": "markdown",
   "id": "2b33c631-12b8-44ee-8b20-b3d6c8f4e0ca",
   "metadata": {},
   "source": [
    "Q2. Why *args and **kwargs is used in some functions? Create a function each for *args and **kwargs\n",
    "to demonstrate their use."
   ]
  },
  {
   "cell_type": "markdown",
   "id": "445ed6b3-389c-4b3a-9e63-bbc1d2da153d",
   "metadata": {},
   "source": [
    "*args and **kwargs are used in functions to allow a variable number of arguments. "
   ]
  },
  {
   "cell_type": "code",
   "execution_count": 2,
   "id": "7bbb5591-b0f6-4212-b51c-7621b4f75855",
   "metadata": {},
   "outputs": [
    {
     "name": "stdout",
     "output_type": "stream",
     "text": [
      "1\n",
      "2\n",
      "3\n",
      "a: 10\n",
      "b: 20\n",
      "c: 30\n"
     ]
    }
   ],
   "source": [
    "# *args\n",
    "def print_args(*args):\n",
    "    for arg in args:\n",
    "        print(arg)\n",
    "\n",
    "# **kwargs\n",
    "def print_kwargs(**kwargs):\n",
    "    for key, value in kwargs.items():\n",
    "        print(f\"{key}: {value}\")\n",
    "\n",
    "print_args(1, 2, 3)\n",
    "print_kwargs(a=10, b=20, c=30)"
   ]
  },
  {
   "cell_type": "markdown",
   "id": "2edab121-996d-4a6f-94d7-454061be58e1",
   "metadata": {},
   "source": [
    "Q3. What is an iterator in python? Name the method used to initialise the iterator object and the method\n",
    "used for iteration. Use these methods to print the first five elements of the given list [2, 4, 6, 8, 10, 12, 14,\n",
    "16, 18, 20]."
   ]
  },
  {
   "cell_type": "markdown",
   "id": "8456cba4-9228-40dd-b2c1-0ad1e355a510",
   "metadata": {},
   "source": [
    "iterator in Python is an object that can be iterated over. The iter() method initializes an iterator object and the next() method is used for iteration."
   ]
  },
  {
   "cell_type": "code",
   "execution_count": 5,
   "id": "b504a2a6-6e6e-49ea-aa60-a200478c5d15",
   "metadata": {},
   "outputs": [
    {
     "name": "stdout",
     "output_type": "stream",
     "text": [
      "2\n",
      "4\n",
      "6\n",
      "8\n",
      "10\n"
     ]
    }
   ],
   "source": [
    "l = [2, 4, 6, 8, 10, 12, 14, 16, 18, 20]\n",
    "m = iter(l)\n",
    "\n",
    "for  i in range(5):\n",
    "    print(next(m))\n"
   ]
  },
  {
   "cell_type": "markdown",
   "id": "4d99b34d-ba61-45c3-bd69-d0dd865392b5",
   "metadata": {},
   "source": [
    "Q4. What is a generator function in python? Why yield keyword is used? Give an example of a generator\n",
    "function."
   ]
  },
  {
   "cell_type": "markdown",
   "id": "e2756cd3-c9c2-4fe5-8507-4cdf49e05b52",
   "metadata": {},
   "source": [
    "generator function is the function in python that yields values one at a time using the \"yield\" keyword"
   ]
  },
  {
   "cell_type": "code",
   "execution_count": 1,
   "id": "0341dbbf-8a9d-4abd-b243-6aba6bebac20",
   "metadata": {},
   "outputs": [
    {
     "name": "stdout",
     "output_type": "stream",
     "text": [
      "5\n",
      "4\n",
      "3\n",
      "2\n",
      "1\n"
     ]
    }
   ],
   "source": [
    "def timmer(n):\n",
    "    while n > 0:\n",
    "        yield n\n",
    "        n -= 1\n",
    "\n",
    "for i in timmer(5):\n",
    "    print(i)\n"
   ]
  },
  {
   "cell_type": "markdown",
   "id": "5392b74a-bb32-4ab3-a3d6-2fa98e4d3831",
   "metadata": {},
   "source": [
    "Q5. Create a generator function for prime numbers less than 1000. Use the next() method to print the\n",
    "first 20 prime numbers."
   ]
  },
  {
   "cell_type": "markdown",
   "id": "78587700-2cb6-4fb3-97e0-7ea296bb128e",
   "metadata": {},
   "source": [
    "Can't solve"
   ]
  },
  {
   "cell_type": "markdown",
   "id": "17af5033-ad4b-49e4-95fa-e80919e38c44",
   "metadata": {},
   "source": [
    "Q6. Write a python program to print the first 10 Fibonacci numbers using a while loop."
   ]
  },
  {
   "cell_type": "code",
   "execution_count": 3,
   "id": "da4b2ebe-75af-4d8c-b7d5-9a38d449e5e0",
   "metadata": {},
   "outputs": [
    {
     "name": "stdout",
     "output_type": "stream",
     "text": [
      "0 1 1 2 3 5 8 13 21 34 "
     ]
    }
   ],
   "source": [
    "a, b = 0, 1\n",
    "count = 0\n",
    "\n",
    "while count < 10:\n",
    "    print(a, end=\" \")\n",
    "    a, b = b, a + b\n",
    "    count += 1\n"
   ]
  },
  {
   "cell_type": "markdown",
   "id": "a347422b-c152-4d9d-a863-39583794674e",
   "metadata": {},
   "source": [
    "Q7. Write a List Comprehension to iterate through the given string: ‘pwskills’.\n",
    "Expected output: ['p', 'w', 's', 'k', 'i', 'l', 'l', 's']"
   ]
  },
  {
   "cell_type": "code",
   "execution_count": 6,
   "id": "63aa91b5-c557-48c2-8771-e689aa168ad3",
   "metadata": {},
   "outputs": [
    {
     "name": "stdout",
     "output_type": "stream",
     "text": [
      "['p', 'w', 's', 'k', 'i', 'l', 'l', 's']\n"
     ]
    }
   ],
   "source": [
    "string = 'pwskills'\n",
    "result = [char for char in string]\n",
    "print(result)\n"
   ]
  },
  {
   "cell_type": "markdown",
   "id": "2a9e1577-ce1b-4756-b05a-4e6e3cca4594",
   "metadata": {},
   "source": [
    "Q8. Write a python program to check whether a given number is Palindrome or not using a while loop."
   ]
  },
  {
   "cell_type": "markdown",
   "id": "384a5028-a642-4246-bf2e-b4bf2c2f6e2f",
   "metadata": {},
   "source": [
    "n =int(input(\"Enter the number: \"))\n",
    "v = n\n",
    "r = 0\n",
    "\n",
    "while n > 0:\n",
    "    s = n % 10\n",
    "    r = r * 10 + s\n",
    "    n = n // 10\n",
    "\n",
    "if v == r :\n",
    "    print(f\"{v} is a palindrome.\")\n",
    "else:\n",
    "    print(f\"{v} is not a palindrome.\")\n"
   ]
  },
  {
   "cell_type": "markdown",
   "id": "4115c595-dba0-457b-b65f-2c552ec39321",
   "metadata": {},
   "source": [
    "Q9. Write a code to print odd numbers from 1 to 100 using list comprehension."
   ]
  },
  {
   "cell_type": "code",
   "execution_count": 10,
   "id": "62f7339a-d385-43d2-8d0f-aeeb786e6238",
   "metadata": {},
   "outputs": [
    {
     "name": "stdout",
     "output_type": "stream",
     "text": [
      "[1, 3, 5, 7, 9, 11, 13, 15, 17, 19, 21, 23, 25, 27, 29, 31, 33, 35, 37, 39, 41, 43, 45, 47, 49, 51, 53, 55, 57, 59, 61, 63, 65, 67, 69, 71, 73, 75, 77, 79, 81, 83, 85, 87, 89, 91, 93, 95, 97, 99]\n"
     ]
    }
   ],
   "source": [
    "odd_numbers = [num for num in range(1, 101) if num % 2 != 0]\n",
    "print(odd_numbers)\n"
   ]
  },
  {
   "cell_type": "code",
   "execution_count": null,
   "id": "3f612006-138f-4645-aff1-39e1e248801a",
   "metadata": {},
   "outputs": [],
   "source": []
  }
 ],
 "metadata": {
  "kernelspec": {
   "display_name": "Python 3 (ipykernel)",
   "language": "python",
   "name": "python3"
  },
  "language_info": {
   "codemirror_mode": {
    "name": "ipython",
    "version": 3
   },
   "file_extension": ".py",
   "mimetype": "text/x-python",
   "name": "python",
   "nbconvert_exporter": "python",
   "pygments_lexer": "ipython3",
   "version": "3.10.8"
  }
 },
 "nbformat": 4,
 "nbformat_minor": 5
}
