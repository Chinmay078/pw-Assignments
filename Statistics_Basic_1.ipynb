{
  "nbformat": 4,
  "nbformat_minor": 0,
  "metadata": {
    "colab": {
      "provenance": []
    },
    "kernelspec": {
      "name": "python3",
      "display_name": "Python 3"
    },
    "language_info": {
      "name": "python"
    }
  },
  "cells": [
    {
      "cell_type": "markdown",
      "source": [
        "Q1: What is Statistics?\n",
        "\n",
        "Statistics is a branch of mathematics that deals with collecting, organizing, analyzing, interpreting, and presenting data. It provides tools and techniques to make informed decisions and predictions based on numerical and categorical data."
      ],
      "metadata": {
        "id": "3rYjarj_FYSk"
      }
    },
    {
      "cell_type": "markdown",
      "source": [
        "Q2: Define the different types of statistics and give an example of when each type might be used.\n",
        "\n",
        "There are two main types of statistics:\n",
        "\n",
        "Descriptive Statistics\n",
        "\n",
        "Definition: Descriptive statistics summarize and describe the characteristics of a dataset. They do not infer or predict but provide an overview of the data.\n",
        "Examples: Mean, median, mode, standard deviation, and frequency distribution.\n",
        "Use Case: A company analyzing the average monthly sales across all its stores to understand performance.\n",
        "Inferential Statistics\n",
        "\n",
        "Definition: Inferential statistics use a sample of data to make generalizations or predictions about a larger population.\n",
        "Examples: Hypothesis testing, confidence intervals, and regression analysis.\n",
        "Use Case: A political analyst using survey results from 1,000 voters to predict the voting preferences of the entire population."
      ],
      "metadata": {
        "id": "fVZ679mGFiQh"
      }
    },
    {
      "cell_type": "markdown",
      "source": [
        "Q3: What are the different types of data, and how do they differ from each other? Provide an example of each type of data.\n",
        "\n",
        "Data can be broadly classified into two types:\n",
        "\n",
        "1. Qualitative (Categorical) Data\n",
        "Definition: Data that represents categories or groups.\n",
        "Subtypes:\n",
        "Nominal Data: Data with no inherent order.\n",
        "Example: Colors of cars (red, blue, green).\n",
        "Ordinal Data: Data with a meaningful order but no fixed intervals.\n",
        "Example: Customer satisfaction levels (poor, average, excellent).\n",
        "2. Quantitative (Numerical) Data\n",
        "Definition: Data that represents numerical values.\n",
        "Subtypes:\n",
        "Discrete Data: Countable values with no in-between (whole numbers).\n",
        "Example: Number of students in a classroom.\n",
        "Continuous Data: Measurable values that can take any number within a range.\n",
        "Example: Height of students in centimeters.\n",
        "Key Differences:\n",
        "Qualitative Data categorizes information, while Quantitative Data measures it.\n",
        "Quantitative data involves numerical operations, whereas qualitative data uses descriptive methods."
      ],
      "metadata": {
        "id": "R5bI5mxnFsPK"
      }
    },
    {
      "cell_type": "markdown",
      "source": [
        "Q4. Categorise the following datasets with respect to quantitative and qualitative data types:"
      ],
      "metadata": {
        "id": "QouDrj3uF9xK"
      }
    },
    {
      "cell_type": "markdown",
      "source": [],
      "metadata": {
        "id": "nmldAbyxF9iJ"
      }
    },
    {
      "cell_type": "markdown",
      "source": [
        "(i) Grading in exam: A+, A, B+, B, C+, C, D, E\n",
        "\n",
        "Type: Qualitative (Ordinal)\n",
        "Reason: The grades represent categories with a meaningful order (A+ > A > B+ > ...), but the intervals between grades are not measurable."
      ],
      "metadata": {
        "id": "_1p9nGOdGCeg"
      }
    },
    {
      "cell_type": "markdown",
      "source": [
        "(ii) Colour of mangoes: yellow, green, orange, red\n",
        "\n",
        "Type: Qualitative (Nominal)\n",
        "Reason: The colors are categories without any inherent order."
      ],
      "metadata": {
        "id": "_HQ0FXNcGJdc"
      }
    },
    {
      "cell_type": "markdown",
      "source": [
        "(iii) Height data of a class: [178.9, 179, 179.5, 176, 177.2, 178.3, 175.8, ...]\n",
        "\n",
        "Type: Quantitative (Continuous)\n",
        "Reason: Heights are measurable and can take any value within a range."
      ],
      "metadata": {
        "id": "wr51p06WGQOn"
      }
    },
    {
      "cell_type": "markdown",
      "source": [
        "(iv) Number of mangoes exported by a farm: [500, 600, 478, 672, ...]\n",
        "\n",
        "Type: Quantitative (Discrete)\n",
        "Reason: The number of mangoes is countable and takes whole numbers only."
      ],
      "metadata": {
        "id": "g_Bc_FKqGXxv"
      }
    },
    {
      "cell_type": "markdown",
      "source": [
        "Q5: Explain the concept of levels of measurement and give an example of a variable for each level.\n",
        "\n",
        "The levels of measurement classify data based on the nature and properties of the data. There are four levels:\n",
        "\n",
        "Nominal\n",
        "\n",
        "Definition: Data is categorized without any order or rank.\n",
        "Example: Types of fruits (apple, mango, banana).\n",
        "Ordinal\n",
        "\n",
        "Definition: Data is categorized with a meaningful order but without equal intervals.\n",
        "Example: Educational qualifications (high school, undergraduate, postgraduate).\n",
        "Interval\n",
        "\n",
        "Definition: Data has ordered categories with equal intervals but no true zero.\n",
        "Example: Temperature in Celsius or Fahrenheit.\n",
        "Ratio\n",
        "\n",
        "Definition: Data has ordered categories with equal intervals and a true zero, allowing for ratio comparisons.\n",
        "Example: Weight of objects (50 kg, 70 kg, etc.)."
      ],
      "metadata": {
        "id": "mXgQXg4-Gk60"
      }
    },
    {
      "cell_type": "markdown",
      "source": [
        "Q6: Why is it important to understand the level of measurement when analyzing data?\n",
        "\n",
        "Understanding the level of measurement is crucial because it determines the types of statistical analyses that can be performed and the appropriate visualizations and summary measures to use.\n",
        "\n",
        "Example:\n",
        "If you have nominal data (e.g., favorite colors), calculating a mean makes no sense. Instead, you use a mode or frequency distribution.\n",
        "For ratio data (e.g., income), you can compute the mean, median, and ratios like \"twice as much.\"\n"
      ],
      "metadata": {
        "id": "Qo0ATO1EGshk"
      }
    },
    {
      "cell_type": "markdown",
      "source": [
        "Q7: How is nominal data different from ordinal data?  \n",
        "\n",
        "Nominal data represents categories without any inherent order or ranking. For example, eye colors such as blue, green, and brown are nominal data because they are simply labels without a logical sequence.  \n",
        "\n",
        "On the other hand, ordinal data represents categories with a meaningful order or ranking, but the intervals between the categories are not necessarily equal. For instance, satisfaction levels like \"low,\" \"medium,\" and \"high\" are ordinal data because they have a logical order but do not specify how much more satisfied \"high\" is compared to \"medium.\"  "
      ],
      "metadata": {
        "id": "4BYrK9hEG0o2"
      }
    },
    {
      "cell_type": "markdown",
      "source": [
        "Q8: Which type of plot can be used to display data in terms of range?\n",
        "\n",
        "A box plot (also called a box-and-whisker plot) is commonly used to display data in terms of range.\n",
        "It shows the minimum, first quartile (Q1), median, third quartile (Q3), maximum, and any outliers, providing a clear view of the data's distribution and range."
      ],
      "metadata": {
        "id": "tcpwV2skG6v3"
      }
    },
    {
      "cell_type": "markdown",
      "source": [
        "Q9: Describe the difference between descriptive and inferential statistics.\n",
        "\n",
        "Descriptive Statistics\n",
        "\n",
        "Definition: Summarize and describe the main features of a dataset.\n",
        "Examples: Mean, median, mode, standard deviation.\n",
        "Use: Summarizing the performance of students in a class by calculating the average score.\n",
        "\n",
        "Inferential Statistics\n",
        "\n",
        "Definition: Draw conclusions or make predictions about a population based on a sample.\n",
        "Examples: Hypothesis testing, regression analysis.\n",
        "Use: Estimating the average income of a country based on a survey sample."
      ],
      "metadata": {
        "id": "w8IJff3ZG_JE"
      }
    },
    {
      "cell_type": "markdown",
      "source": [
        "Q10: What are some common measures of central tendency and variability used in statistics?\n",
        "\n",
        "Measures of Central Tendency\n",
        "Mean (Average): Sum of all values divided by the total number of values.\n",
        "\n",
        "Use: Best for symmetric data without outliers.\n",
        "Example: Average score in a class.\n",
        "Median: Middle value when data is ordered.\n",
        "\n",
        "Use: Useful for skewed data or when outliers are present.\n",
        "Example: Median household income.\n",
        "Mode: Most frequently occurring value.\n",
        "\n",
        "Use: Useful for categorical data.\n",
        "Example: Most common eye color in a group.\n",
        "Measures of Variability\n",
        "Range: Difference between the maximum and minimum values.\n",
        "\n",
        "Use: Quick measure of spread.\n",
        "Example: Range of exam scores (highest score - lowest score).\n",
        "Variance: Average squared deviation from the mean.\n",
        "\n",
        "Use: Measures data dispersion.\n",
        "Standard Deviation: Square root of variance.\n",
        "\n",
        "Use: Shows how much data deviates from the mean.\n",
        "Example: Standard deviation of test scores in a school.\n",
        "Interquartile Range (IQR): Difference between the first (Q1) and third quartiles (Q3).\n",
        "\n",
        "Use: Measures the spread of the middle 50% of data."
      ],
      "metadata": {
        "id": "sCK7ZrjFHNnh"
      }
    },
    {
      "cell_type": "code",
      "execution_count": null,
      "metadata": {
        "id": "NQ9PQSu-FWgb"
      },
      "outputs": [],
      "source": []
    }
  ]
}