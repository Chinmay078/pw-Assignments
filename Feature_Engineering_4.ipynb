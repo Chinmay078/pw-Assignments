{
  "nbformat": 4,
  "nbformat_minor": 0,
  "metadata": {
    "colab": {
      "provenance": []
    },
    "kernelspec": {
      "name": "python3",
      "display_name": "Python 3"
    },
    "language_info": {
      "name": "python"
    }
  },
  "cells": [
    {
      "cell_type": "code",
      "source": [],
      "metadata": {
        "id": "uoVRyJpFvqdf"
      },
      "execution_count": null,
      "outputs": []
    },
    {
      "cell_type": "markdown",
      "source": [
        "Q1. What is data encoding? How is it useful in data science?\n",
        "\n",
        "Data encoding is the process of converting categorical or textual data into a numerical format so that machine learning algorithms can process it. Most algorithms operate on numerical data, so encoding ensures that categorical information can be effectively utilized in training and prediction.\n",
        "\n",
        "Q2. What is nominal encoding? Provide an example of how you would use it in a real-world scenario.\n",
        "Nominal encoding (or label encoding) assigns a unique integer value to each category in a feature. It is used when the categorical variable has no ordinal relationship.\n",
        "\n",
        "Example:\n",
        "In a dataset with a \"Color\" feature: [Red, Blue, Green]:\n",
        "- Red = 0, Blue = 1, Green = 2.\n",
        "\n",
        "Real-world scenario:\n",
        "If you have a feature \"City\" with values [Mumbai, Delhi, Chennai], you can encode it as [0, 1, 2].\n",
        "\n",
        "Q3. In what situations is nominal encoding preferred over one-hot encoding? Provide a practical example.\n",
        "\n",
        "Nominal encoding is preferred when:\n",
        "1. The dataset contains high cardinality (many unique values in a categorical feature).\n",
        "2. The encoded feature will be used with algorithms that can naturally handle numerical relationships (e.g., tree-based algorithms).\n",
        "\n",
        "Example:\n",
        "For a dataset with 50 states in the USA as a feature, nominal encoding reduces memory usage and computation compared to one-hot encoding, which would create 50 additional columns.\n",
        "\n",
        "Q4. Suppose you have a dataset containing categorical data with 5 unique values. Which encoding technique would you use to transform this data into a format suitable for machine learning algorithms? Explain why you made this choice.\n",
        "If the 5 unique values are nominal (no ordinal relationship), **one-hot encoding** is recommended. It creates 5 binary columns, ensuring no implicit ordinal relationship is introduced, which might bias certain algorithms.\n",
        "\n",
        "If the dataset has high cardinality or a tree-based model is used, **nominal encoding** is more efficient.\n",
        "\n",
        "Q5. In a machine learning project, you have a dataset with 1000 rows and 5 columns. Two of the columns are categorical, and the remaining three columns are numerical. If you were to use nominal encoding to transform the categorical data, how many new columns would be created? Show your calculations.\n",
        "\n",
        "Nominal encoding does not create new columns; it replaces each categorical column with a single column of integers.\n",
        "- Since there are 2 categorical columns, nominal encoding will replace them with 2 columns, resulting in no additional columns being created.\n",
        "\n",
        "Q6. You are working with a dataset containing information about different types of animals, including their species, habitat, and diet. Which encoding technique would you use to transform the categorical data into a format suitable for machine learning algorithms? Justify your answer.\n",
        "\n",
        "\n",
        "- Use **one-hot encoding** if the categorical features have low cardinality (e.g., habitat: [forest, desert, water]).\n",
        "- Use **nominal encoding** for features with high cardinality, such as species, to reduce the dimensionality of the dataset.\n",
        "\n",
        "Justification:\n",
        "One-hot encoding ensures no ordinal relationships are introduced, which is essential for unbiased learning. However, for high cardinality features like species, nominal encoding prevents a large number of additional columns.\n",
        "\n",
        "Q7. You are working on a project that involves predicting customer churn for a telecommunications company. You have a dataset with 5 features, including the customer's gender, age, contract type, monthly charges, and tenure. Which encoding technique(s) would you use to transform the categorical data into numerical data? Provide a step-by-step explanation of how you would implement the encoding.\n",
        "1. Identify categorical features:\n",
        "   - Gender: [Male, Female].\n",
        "   - Contract Type: [Month-to-Month, One Year, Two Year].\n",
        "2. Choose encoding techniques:\n",
        "   - **Gender:** Use one-hot encoding as it has only two unique values (binary category).\n",
        "   - **Contract Type:** Use one-hot encoding to avoid introducing ordinal relationships.\n",
        "3. Implementation:\n",
        "   - Apply one-hot encoding on \"Gender,\" creating 2 binary columns: [Is_Male, Is_Female].\n",
        "   - Apply one-hot encoding on \"Contract Type,\" creating 3 binary columns: [Month-to-Month, One Year, Two Year].\n",
        "4. Combine with numerical features:\n",
        "   - Merge the encoded columns with the numerical columns: Age, Monthly Charges, and Tenure.\n",
        "5. Result:\n",
        "   - A final dataset with numerical values ready for machine learning.\n"
      ],
      "metadata": {
        "id": "PZEuwvv9vqAe"
      }
    },
    {
      "cell_type": "code",
      "execution_count": null,
      "metadata": {
        "id": "IWqFxw8evkj7"
      },
      "outputs": [],
      "source": []
    }
  ]
}