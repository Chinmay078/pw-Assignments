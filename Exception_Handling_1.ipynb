{
  "nbformat": 4,
  "nbformat_minor": 0,
  "metadata": {
    "colab": {
      "provenance": []
    },
    "kernelspec": {
      "name": "python3",
      "display_name": "Python 3"
    },
    "language_info": {
      "name": "python"
    }
  },
  "cells": [
    {
      "cell_type": "markdown",
      "source": [
        "Q1. What is an Exception in Python? Write the difference between Exceptions and Syntax Errors."
      ],
      "metadata": {
        "id": "Cv-JFM5HgJnh"
      }
    },
    {
      "cell_type": "markdown",
      "source": [
        "\n",
        "An exception in Python is an event that disrupts the normal flow of a program during runtime. Exceptions occur due to invalid operations like dividing by zero, accessing a non-existent index, or type errors.\n",
        "\n",
        "Difference between Exceptions and Syntax Errors:\n",
        "\n",
        "Exception: Occurs during the execution of a program when a valid syntax is used but something goes wrong.\n",
        "\n",
        "Example: 5 / 0 raises a ZeroDivisionError.\n",
        "Syntax Error: Occurs when the Python interpreter encounters invalid syntax, preventing the program from running.\n",
        "\n",
        "Example: if True print(\"Hello\") raises a SyntaxError."
      ],
      "metadata": {
        "id": "p2Ml0svggHf7"
      }
    },
    {
      "cell_type": "markdown",
      "source": [
        "Q2. What happens when an exception is not handled? Explain with an example."
      ],
      "metadata": {
        "id": "Q8rRjhf2gHUb"
      }
    },
    {
      "cell_type": "markdown",
      "source": [
        "\n",
        "When an exception is not handled, the program terminates, and Python displays a traceback message indicating the type of exception and where it occurred."
      ],
      "metadata": {
        "id": "m_DRGZYagHG9"
      }
    },
    {
      "cell_type": "code",
      "execution_count": 1,
      "metadata": {
        "colab": {
          "base_uri": "https://localhost:8080/",
          "height": 280
        },
        "id": "J9M7xTs9gF53",
        "outputId": "ca5df9fe-bda9-4083-d57e-7b2395d14bd0"
      },
      "outputs": [
        {
          "output_type": "error",
          "ename": "ZeroDivisionError",
          "evalue": "division by zero",
          "traceback": [
            "\u001b[0;31m---------------------------------------------------------------------------\u001b[0m",
            "\u001b[0;31mZeroDivisionError\u001b[0m                         Traceback (most recent call last)",
            "\u001b[0;32m<ipython-input-1-cf14bb11fa85>\u001b[0m in \u001b[0;36m<cell line: 4>\u001b[0;34m()\u001b[0m\n\u001b[1;32m      2\u001b[0m     \u001b[0;32mreturn\u001b[0m \u001b[0ma\u001b[0m \u001b[0;34m/\u001b[0m \u001b[0mb\u001b[0m\u001b[0;34m\u001b[0m\u001b[0;34m\u001b[0m\u001b[0m\n\u001b[1;32m      3\u001b[0m \u001b[0;34m\u001b[0m\u001b[0m\n\u001b[0;32m----> 4\u001b[0;31m \u001b[0mprint\u001b[0m\u001b[0;34m(\u001b[0m\u001b[0mdivide_numbers\u001b[0m\u001b[0;34m(\u001b[0m\u001b[0;36m10\u001b[0m\u001b[0;34m,\u001b[0m \u001b[0;36m0\u001b[0m\u001b[0;34m)\u001b[0m\u001b[0;34m)\u001b[0m  \u001b[0;31m# Raises ZeroDivisionError\u001b[0m\u001b[0;34m\u001b[0m\u001b[0;34m\u001b[0m\u001b[0m\n\u001b[0m",
            "\u001b[0;32m<ipython-input-1-cf14bb11fa85>\u001b[0m in \u001b[0;36mdivide_numbers\u001b[0;34m(a, b)\u001b[0m\n\u001b[1;32m      1\u001b[0m \u001b[0;32mdef\u001b[0m \u001b[0mdivide_numbers\u001b[0m\u001b[0;34m(\u001b[0m\u001b[0ma\u001b[0m\u001b[0;34m,\u001b[0m \u001b[0mb\u001b[0m\u001b[0;34m)\u001b[0m\u001b[0;34m:\u001b[0m\u001b[0;34m\u001b[0m\u001b[0;34m\u001b[0m\u001b[0m\n\u001b[0;32m----> 2\u001b[0;31m     \u001b[0;32mreturn\u001b[0m \u001b[0ma\u001b[0m \u001b[0;34m/\u001b[0m \u001b[0mb\u001b[0m\u001b[0;34m\u001b[0m\u001b[0;34m\u001b[0m\u001b[0m\n\u001b[0m\u001b[1;32m      3\u001b[0m \u001b[0;34m\u001b[0m\u001b[0m\n\u001b[1;32m      4\u001b[0m \u001b[0mprint\u001b[0m\u001b[0;34m(\u001b[0m\u001b[0mdivide_numbers\u001b[0m\u001b[0;34m(\u001b[0m\u001b[0;36m10\u001b[0m\u001b[0;34m,\u001b[0m \u001b[0;36m0\u001b[0m\u001b[0;34m)\u001b[0m\u001b[0;34m)\u001b[0m  \u001b[0;31m# Raises ZeroDivisionError\u001b[0m\u001b[0;34m\u001b[0m\u001b[0;34m\u001b[0m\u001b[0m\n",
            "\u001b[0;31mZeroDivisionError\u001b[0m: division by zero"
          ]
        }
      ],
      "source": [
        "def divide_numbers(a, b):\n",
        "    return a / b\n",
        "\n",
        "print(divide_numbers(10, 0))  # Raises ZeroDivisionError\n"
      ]
    },
    {
      "cell_type": "markdown",
      "source": [
        "Q3. Which Python statements are used to catch and handle exceptions? Explain with an example."
      ],
      "metadata": {
        "id": "GzmNkbdPgeGH"
      }
    },
    {
      "cell_type": "markdown",
      "source": [
        "\n",
        "Python uses the try, except, else, and finally blocks to catch and handle exceptions."
      ],
      "metadata": {
        "id": "Nyj9BWh1gb_l"
      }
    },
    {
      "cell_type": "code",
      "source": [
        "try:\n",
        "    num = int(input(\"Enter a number: \"))\n",
        "    print(10 / num)\n",
        "except ZeroDivisionError:\n",
        "    print(\"You cannot divide by zero!\")\n",
        "except ValueError:\n",
        "    print(\"Please enter a valid integer.\")\n",
        "else:\n",
        "    print(\"Division successful.\")\n",
        "finally:\n",
        "    print(\"Execution completed.\")\n"
      ],
      "metadata": {
        "colab": {
          "base_uri": "https://localhost:8080/"
        },
        "id": "anro3kUPgWZb",
        "outputId": "93b93954-db7e-45d0-c965-6d759e83f301"
      },
      "execution_count": 2,
      "outputs": [
        {
          "output_type": "stream",
          "name": "stdout",
          "text": [
            "Enter a number: 0\n",
            "You cannot divide by zero!\n",
            "Execution completed.\n"
          ]
        }
      ]
    },
    {
      "cell_type": "markdown",
      "source": [
        "try: Contains code that might raise an exception.\n",
        "except: Handles specific exceptions.\n",
        "else: Executes if no exceptions occur.\n",
        "finally: Executes regardless of whether an exception occurred."
      ],
      "metadata": {
        "id": "IzlekFzEgsx4"
      }
    },
    {
      "cell_type": "markdown",
      "source": [
        "Q4. Explain with an example:\n",
        "1. try and else:\n"
      ],
      "metadata": {
        "id": "wUxKY3AWgsjD"
      }
    },
    {
      "cell_type": "code",
      "source": [
        "try:\n",
        "    result = 10 / 2\n",
        "except ZeroDivisionError:\n",
        "    print(\"Cannot divide by zero.\")\n",
        "else:\n",
        "    print(\"Result is:\", result)\n"
      ],
      "metadata": {
        "colab": {
          "base_uri": "https://localhost:8080/"
        },
        "id": "c1Q9yW-7girj",
        "outputId": "683ba90a-9fd5-448e-c873-b5b1f8ae0038"
      },
      "execution_count": 3,
      "outputs": [
        {
          "output_type": "stream",
          "name": "stdout",
          "text": [
            "Result is: 5.0\n"
          ]
        }
      ]
    },
    {
      "cell_type": "markdown",
      "source": [
        "2. finally:\n",
        "The finally block runs no matter what happens, making it useful for cleanup actions."
      ],
      "metadata": {
        "id": "tWHFCkBEg5Di"
      }
    },
    {
      "cell_type": "code",
      "source": [
        "try:\n",
        "    file = open(\"example.txt\", \"r\")\n",
        "    print(file.read())\n",
        "except FileNotFoundError:\n",
        "    print(\"File not found.\")\n",
        "finally:\n",
        "    print(\"Closing the file.\")\n"
      ],
      "metadata": {
        "colab": {
          "base_uri": "https://localhost:8080/"
        },
        "id": "2IUm1ggcgz3N",
        "outputId": "7a4a9143-4cb6-43b2-e606-dbf2bd290183"
      },
      "execution_count": 5,
      "outputs": [
        {
          "output_type": "stream",
          "name": "stdout",
          "text": [
            "File not found.\n",
            "Closing the file.\n"
          ]
        }
      ]
    },
    {
      "cell_type": "markdown",
      "source": [
        "3. raise:\n",
        "The raise keyword is used to explicitly throw an exception."
      ],
      "metadata": {
        "id": "welDph7YhAJy"
      }
    },
    {
      "cell_type": "code",
      "source": [
        "def check_age(age):\n",
        "    if age < 18:\n",
        "        raise ValueError(\"Age must be 18 or older.\")\n",
        "    print(\"Access granted.\")\n",
        "\n",
        "try:\n",
        "    check_age(15)\n",
        "except ValueError as e:\n",
        "    print(e)\n"
      ],
      "metadata": {
        "colab": {
          "base_uri": "https://localhost:8080/"
        },
        "id": "-KrJU9Jyg3In",
        "outputId": "e9a5173a-16ce-4581-88cf-afb752120656"
      },
      "execution_count": 6,
      "outputs": [
        {
          "output_type": "stream",
          "name": "stdout",
          "text": [
            "Age must be 18 or older.\n"
          ]
        }
      ]
    },
    {
      "cell_type": "markdown",
      "source": [
        "Q5. What are Custom Exceptions in Python? Why do we need Custom Exceptions? Explain with an example."
      ],
      "metadata": {
        "id": "FPOKiSvPhGe1"
      }
    },
    {
      "cell_type": "markdown",
      "source": [
        "\n",
        "Custom exceptions are user-defined exceptions created by inheriting from the built-in Exception class. They are used to handle specific error conditions that the default exceptions do not address effectively.\n",
        "\n",
        "Why Custom Exceptions?\n",
        "\n",
        "To improve code readability and debugging.\n",
        "\n",
        "To represent application-specific errors."
      ],
      "metadata": {
        "id": "ckiSoKoPhGQR"
      }
    },
    {
      "cell_type": "code",
      "source": [
        "class InvalidAgeError(Exception):\n",
        "    \"\"\"Custom exception for invalid age.\"\"\"\n",
        "    def __init__(self, message):\n",
        "        self.message = message\n",
        "        super().__init__(self.message)\n",
        "\n",
        "def check_age(age):\n",
        "    if age < 0:\n",
        "        raise InvalidAgeError(\"Age cannot be negative.\")\n",
        "    elif age < 18:\n",
        "        raise InvalidAgeError(\"Age must be 18 or older.\")\n",
        "    print(\"Valid age.\")\n",
        "\n",
        "try:\n",
        "    check_age(-5)\n",
        "except InvalidAgeError as e:\n",
        "    print(e)\n"
      ],
      "metadata": {
        "colab": {
          "base_uri": "https://localhost:8080/"
        },
        "id": "I3DF7POFhCSi",
        "outputId": "05ecfa11-736f-4d9e-fb1d-75dbfe5e0593"
      },
      "execution_count": 7,
      "outputs": [
        {
          "output_type": "stream",
          "name": "stdout",
          "text": [
            "Age cannot be negative.\n"
          ]
        }
      ]
    },
    {
      "cell_type": "markdown",
      "source": [
        "Q6. Create a custom exception class. Use this class to handle an exception."
      ],
      "metadata": {
        "id": "jCAQZ7PDhWtZ"
      }
    },
    {
      "cell_type": "code",
      "source": [
        "class InsufficientFundsError(Exception):\n",
        "    \"\"\"Custom exception for insufficient funds.\"\"\"\n",
        "    def __init__(self, balance, amount):\n",
        "        self.balance = balance\n",
        "        self.amount = amount\n",
        "        super().__init__(f\"Insufficient funds: Tried to withdraw {self.amount}, but balance is {self.balance}.\")\n",
        "\n",
        "class BankAccount:\n",
        "    def __init__(self, balance):\n",
        "        self.balance = balance\n",
        "\n",
        "    def withdraw(self, amount):\n",
        "        if amount > self.balance:\n",
        "            raise InsufficientFundsError(self.balance, amount)\n",
        "        self.balance -= amount\n",
        "        return self.balance\n",
        "\n",
        "# Using the custom exception\n",
        "try:\n",
        "    account = BankAccount(500)\n",
        "    print(\"Current Balance:\", account.withdraw(600))\n",
        "except InsufficientFundsError as e:\n",
        "    print(e)\n"
      ],
      "metadata": {
        "colab": {
          "base_uri": "https://localhost:8080/"
        },
        "id": "wnh_s5VUhTbo",
        "outputId": "828c1b3e-e252-4e4b-9307-1c3bd196f7bf"
      },
      "execution_count": 8,
      "outputs": [
        {
          "output_type": "stream",
          "name": "stdout",
          "text": [
            "Insufficient funds: Tried to withdraw 600, but balance is 500.\n"
          ]
        }
      ]
    },
    {
      "cell_type": "code",
      "source": [],
      "metadata": {
        "id": "Qvzd-Zx3hZV1"
      },
      "execution_count": null,
      "outputs": []
    }
  ]
}