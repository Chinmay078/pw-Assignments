{
 "cells": [
  {
   "cell_type": "markdown",
   "id": "f9f986c8-7a81-4ec1-9277-805d538cac49",
   "metadata": {},
   "source": [
    "Q1, Create a vehicle class with an init method having instance variables as name_of_vehicle, max_speed\n",
    "and average_of_vehicle."
   ]
  },
  {
   "cell_type": "code",
   "execution_count": 1,
   "id": "b211d769-6f90-4d7d-99a7-7be43e84290f",
   "metadata": {},
   "outputs": [],
   "source": [
    "class vehicle:\n",
    "    def __init__(self, name_of_vehicle, max_speed, average_of_vehicle):\n",
    "        self.name_of_vehicle = name_of_vehicle\n",
    "        self.max_speed = max_speed\n",
    "        self.average_of_vehicle = average_of_vehicle"
   ]
  },
  {
   "cell_type": "markdown",
   "id": "3f886112-e75a-44cd-bda7-c5f6923dada1",
   "metadata": {},
   "source": [
    "Q2. Create a child class car from the vehicle class created in Que 1, which will inherit the vehicle class.\n",
    "Create a method named seating_capacity which takes capacity as an argument and returns the name of\n",
    "the vehicle and its seating capacity."
   ]
  },
  {
   "cell_type": "markdown",
   "id": "cebed777-3ce6-469b-b0a7-e382cdcd39eb",
   "metadata": {},
   "source": [
    "not done"
   ]
  },
  {
   "cell_type": "markdown",
   "id": "a60a6a7b-4c73-4e56-82ac-595f5485cd91",
   "metadata": {},
   "source": [
    "Q3. What is multiple inheritance? Write a python code to demonstrate multiple inheritance."
   ]
  },
  {
   "cell_type": "code",
   "execution_count": 2,
   "id": "c5cd29ee-87d0-4462-9097-d413c2519dbb",
   "metadata": {},
   "outputs": [
    {
     "name": "stdout",
     "output_type": "stream",
     "text": [
      "Method A from class A\n",
      "Method B from class B\n",
      "Method C from class C\n"
     ]
    }
   ],
   "source": [
    "class A:\n",
    "    def m_a(self):\n",
    "        print(\"Method A from class A\")\n",
    "\n",
    "class B:\n",
    "    def m_b(self):\n",
    "        print(\"Method B from class B\")\n",
    "\n",
    "class C(A, B):\n",
    "    def m_c(self):\n",
    "        print(\"Method C from class C\")\n",
    "\n",
    "# Creating an instance of class C and calling methods\n",
    "obj_c = C()\n",
    "obj_c.m_a()\n",
    "obj_c.m_b()\n",
    "obj_c.m_c()\n"
   ]
  },
  {
   "cell_type": "markdown",
   "id": "7e0d794a-e79a-43e2-9b24-a9c16dfc508a",
   "metadata": {},
   "source": [
    "Q4. What are getter and setter in python? Create a class and create a getter and a setter method in this\n",
    "class."
   ]
  },
  {
   "cell_type": "markdown",
   "id": "8e6b62d8-6ac1-4187-91ae-c1f7acf72158",
   "metadata": {},
   "source": [
    "Getter and setter methods are used to get and set the values of private attributes in a class. "
   ]
  },
  {
   "cell_type": "code",
   "execution_count": 4,
   "id": "45375745-7987-4b88-8e09-2edd900e592b",
   "metadata": {},
   "outputs": [
    {
     "name": "stdout",
     "output_type": "stream",
     "text": [
      "0\n",
      "42\n"
     ]
    }
   ],
   "source": [
    "class Ex:\n",
    "    def __init__(self):\n",
    "        self._value = 0 \n",
    "    # Getter method\n",
    "    def get_value(self):\n",
    "        return self._value\n",
    "\n",
    "    # Setter method\n",
    "    def set_value(self, new_value):\n",
    "        self._value = new_value\n",
    "\n",
    "\n",
    "obj = Ex()\n",
    "\n",
    "# Using getter and setter\n",
    "print(obj.get_value()) \n",
    "obj.set_value(42)\n",
    "print(obj.get_value())  \n"
   ]
  },
  {
   "cell_type": "markdown",
   "id": "bfa3c3ea-b497-400b-9cd5-37981532ca51",
   "metadata": {},
   "source": [
    "Q5.What is method overriding in python? Write a python code to demonstrate method overriding."
   ]
  },
  {
   "cell_type": "code",
   "execution_count": 5,
   "id": "f8ed2f2b-5c15-4729-baf2-3c56fb6cba0d",
   "metadata": {},
   "outputs": [
    {
     "name": "stdout",
     "output_type": "stream",
     "text": [
      "This is the Child class\n"
     ]
    }
   ],
   "source": [
    "class Parent:\n",
    "    def show_message(self):\n",
    "        print(\"This is the Parent class\")\n",
    "\n",
    "class Child(Parent):\n",
    "    def show_message(self):\n",
    "        print(\"This is the Child class\")\n",
    "\n",
    "\n",
    "child_obj = Child()\n",
    "child_obj.show_message() \n"
   ]
  }
 ],
 "metadata": {
  "kernelspec": {
   "display_name": "Python 3 (ipykernel)",
   "language": "python",
   "name": "python3"
  },
  "language_info": {
   "codemirror_mode": {
    "name": "ipython",
    "version": 3
   },
   "file_extension": ".py",
   "mimetype": "text/x-python",
   "name": "python",
   "nbconvert_exporter": "python",
   "pygments_lexer": "ipython3",
   "version": "3.10.8"
  }
 },
 "nbformat": 4,
 "nbformat_minor": 5
}
