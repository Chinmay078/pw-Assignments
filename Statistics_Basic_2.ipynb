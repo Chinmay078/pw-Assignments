{
  "nbformat": 4,
  "nbformat_minor": 0,
  "metadata": {
    "colab": {
      "provenance": []
    },
    "kernelspec": {
      "name": "python3",
      "display_name": "Python 3"
    },
    "language_info": {
      "name": "python"
    }
  },
  "cells": [
    {
      "cell_type": "markdown",
      "source": [
        "Q1. What are the three measures of central tendency?\n",
        "\n",
        "\n",
        "The three measures of central tendency are:\n",
        "\n",
        "Mean: The average of all data points.\n",
        "Median: The middle value when data points are arranged in ascending or descending order.\n",
        "Mode: The value(s) that appear most frequently in the dataset."
      ],
      "metadata": {
        "id": "m8d0_RVcZEZ4"
      }
    },
    {
      "cell_type": "markdown",
      "source": [
        "Q2. What is the difference between the mean, median, and mode? How are they used to measure the central tendency of a dataset?\n",
        "\n",
        "Mean: Represents the arithmetic average. It is sensitive to extreme values (outliers).\n",
        "Median: The middle value, robust to outliers, and represents the 50th percentile of the data.\n",
        "Mode: Indicates the most common value(s) in a dataset and is useful for categorical data.\n",
        "Usage:\n",
        "\n",
        "Mean provides an overall average.\n",
        "Median gives a central value resistant to skewness.\n",
        "Mode identifies the most common occurrences.\n"
      ],
      "metadata": {
        "id": "JZ_xyF84ZoRx"
      }
    },
    {
      "cell_type": "markdown",
      "source": [
        "Q3. Measure the three measures of central tendency for the given height data:"
      ],
      "metadata": {
        "id": "Eqocj6srZu3g"
      }
    },
    {
      "cell_type": "code",
      "execution_count": 1,
      "metadata": {
        "colab": {
          "base_uri": "https://localhost:8080/"
        },
        "id": "O0K1AWBUY3u8",
        "outputId": "dc449a26-b011-4cd2-d6c9-8101144f1869"
      },
      "outputs": [
        {
          "output_type": "stream",
          "name": "stdout",
          "text": [
            "Mean: 177.01875\n",
            "Median: 177.0\n",
            "Mode: 177\n"
          ]
        }
      ],
      "source": [
        "height_data = [178, 177, 176, 177, 178.2, 178, 175, 179, 180, 175, 178.9, 176.2, 177, 172.5, 178, 176.5]\n",
        "\n",
        "import numpy as np\n",
        "\n",
        "mean_height = np.mean(height_data)  # Mean\n",
        "median_height = np.median(height_data)  # Median\n",
        "mode_height = max(set(height_data), key=height_data.count)  # Mode\n",
        "\n",
        "print(\"Mean:\", mean_height)\n",
        "print(\"Median:\", median_height)\n",
        "print(\"Mode:\", mode_height)"
      ]
    },
    {
      "cell_type": "markdown",
      "source": [
        "Q4. Find the standard deviation for the given data:"
      ],
      "metadata": {
        "id": "ymkdBNzfZ08-"
      }
    },
    {
      "cell_type": "code",
      "source": [
        "std_dev_height = np.std(height_data, ddof=0)  # Standard deviation\n",
        "print(\"Standard Deviation:\", std_dev_height)\n"
      ],
      "metadata": {
        "colab": {
          "base_uri": "https://localhost:8080/"
        },
        "id": "CybhG1PXZy3I",
        "outputId": "421fed25-e163-47c4-b013-6bef78c9b982"
      },
      "execution_count": 2,
      "outputs": [
        {
          "output_type": "stream",
          "name": "stdout",
          "text": [
            "Standard Deviation: 1.7885814036548633\n"
          ]
        }
      ]
    },
    {
      "cell_type": "markdown",
      "source": [
        "Q5. How are measures of dispersion such as range, variance, and standard deviation used to describe the spread of a dataset?"
      ],
      "metadata": {
        "id": "3eAcyWlUZ6jG"
      }
    },
    {
      "cell_type": "code",
      "source": [
        "example_data = [10, 12, 14, 16, 18]\n",
        "range_data = max(example_data) - min(example_data)  # Range\n",
        "variance_data = np.var(example_data, ddof=0)  # Variance\n",
        "std_dev_example = np.std(example_data, ddof=0)  # Standard Deviation"
      ],
      "metadata": {
        "id": "nY51Ox1iZ3xa"
      },
      "execution_count": 3,
      "outputs": []
    },
    {
      "cell_type": "code",
      "source": [
        "print(\"Range:\", range_data)\n",
        "print(\"Variance:\", variance_data)\n",
        "print(\"Standard Deviation:\", std_dev_example)"
      ],
      "metadata": {
        "colab": {
          "base_uri": "https://localhost:8080/"
        },
        "id": "l0eR8Z0gZ-BJ",
        "outputId": "316aba8b-9208-4e7d-a179-14e5d8997994"
      },
      "execution_count": 4,
      "outputs": [
        {
          "output_type": "stream",
          "name": "stdout",
          "text": [
            "Range: 8\n",
            "Variance: 8.0\n",
            "Standard Deviation: 2.8284271247461903\n"
          ]
        }
      ]
    },
    {
      "cell_type": "markdown",
      "source": [
        " Q6. What is a Venn diagram?\n",
        "\n",
        " A Venn diagram is a graphical representation of sets using overlapping circles."
      ],
      "metadata": {
        "id": "BOM2LPuiaCnD"
      }
    },
    {
      "cell_type": "markdown",
      "source": [
        "Q7. For the two given sets A = {2,3,4,5,6,7} & B = {0,2,6,8,10}:"
      ],
      "metadata": {
        "id": "LgCn5LhGaG3J"
      }
    },
    {
      "cell_type": "code",
      "source": [
        "A = {2, 3, 4, 5, 6, 7}\n",
        "B = {0, 2, 6, 8, 10}\n",
        "\n",
        "intersection_AB = A.intersection(B)  # A ∩ B\n",
        "union_AB = A.union(B)  # A ∪ B\n",
        "\n",
        "print(\"Intersection (A ∩ B):\", intersection_AB)\n",
        "print(\"Union (A ∪ B):\", union_AB)"
      ],
      "metadata": {
        "colab": {
          "base_uri": "https://localhost:8080/"
        },
        "id": "z1T7aEDaaABO",
        "outputId": "74692c78-2306-4a87-ff84-c564acd9fd41"
      },
      "execution_count": 5,
      "outputs": [
        {
          "output_type": "stream",
          "name": "stdout",
          "text": [
            "Intersection (A ∩ B): {2, 6}\n",
            "Union (A ∪ B): {0, 2, 3, 4, 5, 6, 7, 8, 10}\n"
          ]
        }
      ]
    },
    {
      "cell_type": "markdown",
      "source": [
        "Q8. What do you understand about skewness in data?\n",
        "\n",
        "\n",
        "Skewness measures the asymmetry of a data distribution:\n",
        "\n",
        "Positive skew (right skew): Tail extends to the right; mean > median.\n",
        "Negative skew (left skew): Tail extends to the left; mean < median.\n",
        "Symmetrical: Mean = Median = Mode.\n"
      ],
      "metadata": {
        "id": "XsMo-E-0aMq7"
      }
    },
    {
      "cell_type": "markdown",
      "source": [
        "Q9. If a data is right skewed, then what will be the position of the median with respect to the mean?\n",
        "\n",
        "\n",
        "In a right-skewed distribution:\n",
        "Median < Mean\n",
        "\n",
        "\n",
        "Q10. Explain the difference between covariance and correlation. How are these measures used in statistical analysis?\n",
        "\n",
        "Covariance: Measures the directional relationship between two variables. It has units derived from the product of the variables' units.\n",
        "Correlation: Standardized form of covariance, ranges between -1 and 1, and indicates the strength and direction of the relationship.\n",
        "Usage:\n",
        "\n",
        "Covariance helps identify the direction of the relationship.\n",
        "Correlation quantifies the strength and makes comparisons easier."
      ],
      "metadata": {
        "id": "t_JvyxafaTet"
      }
    },
    {
      "cell_type": "code",
      "source": [],
      "metadata": {
        "id": "I3R6ezKlaI23"
      },
      "execution_count": null,
      "outputs": []
    }
  ]
}