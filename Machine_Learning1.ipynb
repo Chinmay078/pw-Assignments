{
 "cells": [
  {
   "cell_type": "markdown",
   "id": "f792749d-dcb7-4567-a69a-59d5a3cd465b",
   "metadata": {},
   "source": [
    "Q1: Explain the following with an example:\n",
    "a) Artificial Intelligence\n",
    "b) Machine Learning\n",
    "c) Deep Learning"
   ]
  },
  {
   "cell_type": "markdown",
   "id": "2a4e02a6-1112-49ad-8572-e8ebf3ef9a0f",
   "metadata": {},
   "source": [
    "a) AI:\n",
    "    it is smart application that can perform its own task without any human interraction.\n",
    "    eg. self  driving car\n",
    "    \n",
    "b) ML :\n",
    "    it provides tools to learn , analyze and decode prediction models from the data \n",
    "    eg. email classification on spam or not. stock prediction\n",
    "    \n",
    "c) DL :\n",
    "    it is part within machine learning with multilevel neural network\n",
    "    eg. object detection"
   ]
  },
  {
   "cell_type": "markdown",
   "id": "80fc24e3-bb90-49c0-97b2-359e6f5c042b",
   "metadata": {},
   "source": [
    "Q2- What is supervised learning? List some examples of supervised learning."
   ]
  },
  {
   "cell_type": "markdown",
   "id": "7d81a095-8aa3-4823-ae0f-c62ef8aa84bc",
   "metadata": {},
   "source": [
    "In supervised learning input data is paired with the corresponding output. The algorithm learns from this labeled data to make predictions or decisions without human intervention.\n",
    "\n",
    "eg.Spam email detection: Teaching a model to identify whether an email is spam or not based on labeled examples."
   ]
  },
  {
   "cell_type": "markdown",
   "id": "eadcdac8-1ecc-4496-97b0-d257cdc80ae5",
   "metadata": {},
   "source": [
    "Q3: What is unsupervised learning? List some examples of unsupervised learning."
   ]
  },
  {
   "cell_type": "markdown",
   "id": "09e4035d-7c68-4a40-b162-ff26cbc4f152",
   "metadata": {},
   "source": [
    "Unsupervised learning involves training a model on an unlabeled dataset where the algorithm tries to infer the natural structure present within a set of data points.\n",
    "\n",
    "eg.Clustering: Grouping similar data points together, such as customer segmentation in marketing."
   ]
  },
  {
   "cell_type": "markdown",
   "id": "94519f3b-69c1-4688-b915-a9bb565c044b",
   "metadata": {},
   "source": [
    "Q4: What is the difference between AI, ML, DL, and DS?"
   ]
  },
  {
   "cell_type": "markdown",
   "id": "c24d3903-a5e1-4549-9865-a867ac0235ed",
   "metadata": {},
   "source": [
    "AI: It is nothing but the system that performs the specific asks for which it is trained\n",
    "\n",
    "ML: It is subset of AI that involves systems learning from data to improve their performance over time you don't have to do special programming for that\n",
    "\n",
    "DL: It is subset of machine learning using neural networks with multiple layers to learn and make decisions.\n",
    "\n",
    "DS:  It is the field that involves extracting insights and knowledge from structured and unstructured data, using techniques from statistics, machine learning basically AI ,ML , DL all are imp in data science"
   ]
  },
  {
   "cell_type": "markdown",
   "id": "2012d304-6c7d-472e-bcf3-76b16fcc462f",
   "metadata": {},
   "source": [
    "Q5: What are the main differences between supervised, unsupervised, and semi-supervised learning?"
   ]
  },
  {
   "cell_type": "markdown",
   "id": "0b1f186e-d8d3-4ed6-b59e-001f400e64ac",
   "metadata": {},
   "source": [
    "Supervised Learning: Involves training a model on labeled data, where the algorithm learns from input-output pairs\n",
    "\n",
    "Unsupervised Learning: Involves training a model on unlabeled data, where the algorithm tries to find patterns or relationships within the data.\n",
    "\n",
    "Semi-Supervised Learning: It combines elements of both using a mix of labeled and unlabeled data for training."
   ]
  },
  {
   "cell_type": "markdown",
   "id": "d93e04a1-9354-44a3-9aa7-4d4effc5de79",
   "metadata": {},
   "source": [
    "Q6: What is train, test, and validation split? Explain the importance of each term."
   ]
  },
  {
   "cell_type": "markdown",
   "id": "4358a629-9e61-4066-ae33-719d5dbbce3d",
   "metadata": {},
   "source": [
    "Training set: The portion of the dataset used to train the model.\n",
    "\n",
    "Test set: A separate portion used to evaluate the model's performance.\n",
    "\n",
    "Validation set: An additional subset used to fine-tune the model's parameters and avoid overfitting.\n",
    "\n",
    "The training set is crucial for teaching the model patterns in the data, the validation set helps in tuning hyperparameters, and the test set assesses the model's generalization to new, unseen data."
   ]
  },
  {
   "cell_type": "markdown",
   "id": "b41085d1-0cff-4283-a411-b9c4042a25e9",
   "metadata": {},
   "source": [
    "Q7: How can unsupervised learning be used in anomaly detection?"
   ]
  },
  {
   "cell_type": "markdown",
   "id": "db0030b6-c9c4-428d-adab-58e552f4b11f",
   "metadata": {},
   "source": [
    "Unsupervised learning can be used for anomaly detection by training a model on normal data and identifying instances that deviate significantly from the learned patterns as potential anomalies. Clustering techniques method can be applied for this purpose."
   ]
  },
  {
   "cell_type": "markdown",
   "id": "4bcbead2-cdca-46a3-83e7-a3a6e4839614",
   "metadata": {},
   "source": [
    "Q8: List down some commonly used supervised learning algorithms and unsupervised learning algorithms."
   ]
  },
  {
   "cell_type": "markdown",
   "id": "23002f01-5f88-42fb-a7ca-1fe64cc34459",
   "metadata": {},
   "source": [
    "Common supervised learning algorithms:\n",
    "\n",
    "Linear Regression\n",
    "Decision Trees\n",
    "Random Forest\n",
    "Support Vector Machines\n",
    "Neural Networks\n",
    "\n",
    "Common unsupervised learning algorithms:\n",
    "\n",
    "K-Means Clustering\n",
    "Hierarchical Clustering\n",
    "Principal Component Analysis (PCA)\n",
    "Autoencoders\n",
    "Gaussian Mixture Models (GMM)"
   ]
  },
  {
   "cell_type": "code",
   "execution_count": null,
   "id": "8ea0a8f7-d0a7-4b98-b9ea-4d81c7192eac",
   "metadata": {},
   "outputs": [],
   "source": []
  }
 ],
 "metadata": {
  "kernelspec": {
   "display_name": "Python 3 (ipykernel)",
   "language": "python",
   "name": "python3"
  },
  "language_info": {
   "codemirror_mode": {
    "name": "ipython",
    "version": 3
   },
   "file_extension": ".py",
   "mimetype": "text/x-python",
   "name": "python",
   "nbconvert_exporter": "python",
   "pygments_lexer": "ipython3",
   "version": "3.10.8"
  }
 },
 "nbformat": 4,
 "nbformat_minor": 5
}
