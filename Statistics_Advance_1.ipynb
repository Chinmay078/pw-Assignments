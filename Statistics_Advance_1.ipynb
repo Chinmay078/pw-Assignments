{
  "nbformat": 4,
  "nbformat_minor": 0,
  "metadata": {
    "colab": {
      "provenance": []
    },
    "kernelspec": {
      "name": "python3",
      "display_name": "Python 3"
    },
    "language_info": {
      "name": "python"
    }
  },
  "cells": [
    {
      "cell_type": "markdown",
      "source": [
        "Q1. What is the Probability Density Function?\n",
        "\n",
        "A Probability Density Function (PDF) is a function that describes the likelihood of a random variable taking on a particular value. It is used for continuous random variables, and the area under the curve of the PDF over a given interval represents the probability that the random variable falls within that interval. The total area under the PDF curve is always equal to 1."
      ],
      "metadata": {
        "id": "aemC_GbFceKD"
      }
    },
    {
      "cell_type": "markdown",
      "source": [
        "\n",
        "\n",
        "Q2. What are the types of Probability Distribution?\n",
        "\n",
        "Discrete Probability Distributions:\n",
        "\n",
        "Binomial Distribution\n",
        "Poisson Distribution\n",
        "Geometric Distribution\n",
        "Continuous Probability Distributions:\n",
        "\n",
        "Normal Distribution\n",
        "Exponential Distribution\n",
        "Uniform Distribution"
      ],
      "metadata": {
        "id": "IG-_jvJ2chyB"
      }
    },
    {
      "cell_type": "markdown",
      "source": [
        "Q3. Python Function for Normal Distribution PDF"
      ],
      "metadata": {
        "id": "vqnvaQKhcojc"
      }
    },
    {
      "cell_type": "code",
      "execution_count": 1,
      "metadata": {
        "colab": {
          "base_uri": "https://localhost:8080/"
        },
        "id": "CY7lfcOMcaTT",
        "outputId": "a44d62f9-e09a-410c-ad92-af390c50c156"
      },
      "outputs": [
        {
          "output_type": "stream",
          "name": "stdout",
          "text": [
            "PDF at x=5 for mean=0, std_dev=1: 1.4867195147342977e-06\n"
          ]
        }
      ],
      "source": [
        "import math\n",
        "\n",
        "def normal_pdf(x, mean, std_dev):\n",
        "    \"\"\"Calculate the probability density function of a normal distribution.\"\"\"\n",
        "    coefficient = 1 / (std_dev * math.sqrt(2 * math.pi))\n",
        "    exponent = math.exp(-((x - mean) ** 2) / (2 * (std_dev ** 2)))\n",
        "    return coefficient * exponent\n",
        "\n",
        "# Example usage:\n",
        "result = normal_pdf(5, 0, 1)\n",
        "print(f\"PDF at x=5 for mean=0, std_dev=1: {result}\")\n"
      ]
    },
    {
      "cell_type": "markdown",
      "source": [
        "Q4. Properties of Binomial Distribution\n",
        "\n",
        "The number of trials (n) is fixed.\n",
        "Each trial is independent.\n",
        "Each trial has only two possible outcomes: success or failure.\n",
        "The probability of success (p) is constant across trials.\n",
        "Examples:\n",
        "\n",
        "Tossing a coin 10 times and counting the number of heads.\n",
        "Rolling a die 20 times and counting the number of times a specific number appears."
      ],
      "metadata": {
        "id": "28iIONwacs9Y"
      }
    },
    {
      "cell_type": "markdown",
      "source": [
        "Q5. Generate and Plot Histogram for Binomial Distribution"
      ],
      "metadata": {
        "id": "IJwL_34lcw6W"
      }
    },
    {
      "cell_type": "code",
      "source": [
        "import numpy as np\n",
        "import matplotlib.pyplot as plt\n",
        "\n",
        "# Generate random sample\n",
        "sample = np.random.binomial(n=10, p=0.4, size=1000)\n",
        "\n",
        "# Plot histogram\n",
        "plt.hist(sample, bins=10, color='blue', alpha=0.7, edgecolor='black')\n",
        "plt.title('Histogram of Binomial Distribution')\n",
        "plt.xlabel('Number of Successes')\n",
        "plt.ylabel('Frequency')\n",
        "plt.show()\n"
      ],
      "metadata": {
        "colab": {
          "base_uri": "https://localhost:8080/",
          "height": 472
        },
        "id": "KZIAYb4acqW4",
        "outputId": "e356a668-9295-47a6-da22-765761d230ab"
      },
      "execution_count": 2,
      "outputs": [
        {
          "output_type": "display_data",
          "data": {
            "text/plain": [
              "<Figure size 640x480 with 1 Axes>"
            ],
            "image/png": "[encoded data removed]"
          },
          "metadata": {}
        }
      ]
    },
    {
      "cell_type": "markdown",
      "source": [
        "Q6. Python Function for Poisson CDF"
      ],
      "metadata": {
        "id": "E75OeS4Xc01Z"
      }
    },
    {
      "cell_type": "code",
      "source": [
        "from scipy.stats import poisson\n",
        "\n",
        "def poisson_cdf(mean, x):\n",
        "    \"\"\"Calculate the cumulative distribution function of a Poisson distribution.\"\"\"\n",
        "    return poisson.cdf(x, mean)\n",
        "\n",
        "# Example usage:\n",
        "result = poisson_cdf(5, 3)\n",
        "print(f\"CDF at x=3 for mean=5: {result}\")\n"
      ],
      "metadata": {
        "colab": {
          "base_uri": "https://localhost:8080/"
        },
        "id": "fuIWwcLpcy9l",
        "outputId": "e3896a0f-2009-49f6-fd97-82239bf5114d"
      },
      "execution_count": 3,
      "outputs": [
        {
          "output_type": "stream",
          "name": "stdout",
          "text": [
            "CDF at x=3 for mean=5: 0.2650259152973616\n"
          ]
        }
      ]
    },
    {
      "cell_type": "markdown",
      "source": [
        "Q7. Difference Between Binomial and Poisson Distribution\n"
      ],
      "metadata": {
        "id": "7xKOv_-SdFaN"
      }
    },
    {
      "cell_type": "markdown",
      "source": [
        "The Binomial distribution applies when there are a fixed number of trials, each with two possible outcomes (success or failure), and the probability of success remains constant across trials. For example, counting the number of heads in 10 coin tosses follows a Binomial distribution if the probability of heads is constant.\n",
        "\n",
        "On the other hand, the Poisson distribution is used for modeling the number of events occurring in a fixed interval of time or space when the events are independent and occur at a constant average rate. Unlike the Binomial distribution, the Poisson distribution does not have a fixed number of trials; it instead focuses on rare events over a continuum, such as the number of emails received in an hour.\n",
        "\n",
        "The key distinction is that the Binomial distribution requires a fixed number of trials, while the Poisson distribution does not."
      ],
      "metadata": {
        "id": "bDInplC3dI9I"
      }
    },
    {
      "cell_type": "markdown",
      "source": [
        "Q8. Generate Sample from Poisson and Calculate Mean and Variance"
      ],
      "metadata": {
        "id": "LGerY8eqdL7F"
      }
    },
    {
      "cell_type": "code",
      "source": [
        "sample = np.random.poisson(lam=5, size=1000)\n",
        "\n",
        "# Calculate sample mean and variance\n",
        "sample_mean = np.mean(sample)\n",
        "sample_variance = np.var(sample)\n",
        "\n",
        "print(f\"Sample Mean: {sample_mean}\")\n",
        "print(f\"Sample Variance: {sample_variance}\")\n"
      ],
      "metadata": {
        "colab": {
          "base_uri": "https://localhost:8080/"
        },
        "id": "zo8MvGYoc21E",
        "outputId": "6ce13a03-4f86-4791-cb92-f13357cccb71"
      },
      "execution_count": 4,
      "outputs": [
        {
          "output_type": "stream",
          "name": "stdout",
          "text": [
            "Sample Mean: 5.102\n",
            "Sample Variance: 4.923596\n"
          ]
        }
      ]
    },
    {
      "cell_type": "markdown",
      "source": [
        "Q9. Relation Between Mean and Variance in Binomial and Poisson Distribution\n",
        "Binomial Distribution:\n",
        "\n",
        "Mean =\n",
        "𝑛\n",
        "⋅\n",
        "𝑝\n",
        "n⋅p\n",
        "Variance =\n",
        "𝑛\n",
        "⋅\n",
        "𝑝\n",
        "⋅\n",
        "(\n",
        "1\n",
        "−\n",
        "𝑝\n",
        ")\n",
        "n⋅p⋅(1−p)\n",
        "Poisson Distribution:\n",
        "\n",
        "Mean = Variance =\n",
        "𝜆\n",
        "λ"
      ],
      "metadata": {
        "id": "-4ITNfOEdQxo"
      }
    },
    {
      "cell_type": "markdown",
      "source": [
        "Q10. In Normal Distribution, Where Does the Least Frequent Data Appear?\n",
        "\n",
        "In a normal distribution, the least frequent data points appear in the tails of the distribution, which are farthest from the mean. These correspond to values that are many standard deviations away from the mean."
      ],
      "metadata": {
        "id": "omfhUd8ZdTeL"
      }
    },
    {
      "cell_type": "code",
      "source": [],
      "metadata": {
        "id": "6arPBcaHdOLH"
      },
      "execution_count": null,
      "outputs": []
    }
  ]
}