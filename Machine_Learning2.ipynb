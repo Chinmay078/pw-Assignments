{
 "cells": [
  {
   "cell_type": "markdown",
   "id": "496487b8-2882-4c50-89a5-a7d9a7d08282",
   "metadata": {},
   "source": [
    "Q1: Define overfitting and underfitting in machine learning. What are the consequences of each, and how can they be mitigated?"
   ]
  },
  {
   "cell_type": "markdown",
   "id": "97024024-274b-418a-af94-fb9faf609094",
   "metadata": {},
   "source": [
    "overfitting:\n",
    "    when training accuracy of model is high but testing accuracy is low this condition is called as overfitting. At this condition there is low bias and high variance\n",
    "    \n",
    "underfitting :\n",
    "    when the training accuracy of model is low and  testing accuracy is also low thatg condition is called underfitting. At this condition there is high bias and high variance\n",
    "    \n",
    "Mitigation involves using more complex models or adding relevant features to the dataset."
   ]
  },
  {
   "cell_type": "markdown",
   "id": "04c250e1-71e1-456a-a443-bc634377118a",
   "metadata": {},
   "source": [
    "Q2: How can we reduce overfitting? Explain in brief."
   ]
  },
  {
   "cell_type": "markdown",
   "id": "7b352292-1c70-4564-958c-966b4693b819",
   "metadata": {},
   "source": [
    "Use more data: A larger and more diverse dataset helps the model generalize better.\n",
    "\n",
    "Cross-validation: Splitting data into training and validation sets helps assess model performance and identify overfitting.\n",
    "\n"
   ]
  },
  {
   "cell_type": "markdown",
   "id": "aebfa0d3-ca57-4ccd-9b1d-cd13c96c70ee",
   "metadata": {},
   "source": [
    "Q3: Explain underfitting. List scenarios where underfitting can occur in ML."
   ]
  },
  {
   "cell_type": "markdown",
   "id": "ea377b61-ef68-44a4-9209-ecd9ca1d170b",
   "metadata": {},
   "source": [
    "Underfitting occurs when a model is too simple to capture the underlying patterns in the data. Scenarios where underfitting can occur:\n",
    "\n",
    "Using a linear model for a non-linear relationship in the data.\n",
    "\n",
    "Insufficiently complex neural network for a complex task.\n",
    "\n",
    "Ignoring important features in the dataset."
   ]
  },
  {
   "cell_type": "markdown",
   "id": "fb5d8e4f-0543-4d04-8deb-112d22ed9926",
   "metadata": {},
   "source": [
    "Q4: Explain the bias-variance tradeoff in machine learning. What is the relationship between bias and variance, and how do they affect model performance?"
   ]
  },
  {
   "cell_type": "markdown",
   "id": "43ce885c-9b52-490d-b2e9-2328706f4ea8",
   "metadata": {},
   "source": [
    " Bias refers to the error introduced by approximating a real-world problem too simplistically, while variance is the error introduced by too much complexity. The relationship is a tradeoff; as you decrease bias, variance tends to increase, and vice versa. Model performance is affected as finding the right balance is crucial – an overly complex model may fit the training data perfectly but fail to generalize to new data (high variance), and an overly simple model may not capture the underlying patterns (high bias)."
   ]
  },
  {
   "cell_type": "markdown",
   "id": "ea63caf3-cc7f-4672-9c7f-c8b2c017f7d3",
   "metadata": {},
   "source": [
    "Q5: Discuss some common methods for detecting overfitting and underfitting in machine learning models. How can you determine whether your model is overfitting or underfitting?"
   ]
  },
  {
   "cell_type": "markdown",
   "id": "8061c192-1ae1-4c28-b94f-e74496161421",
   "metadata": {},
   "source": [
    "1. Check if there is a gap between training and validation performance.\n",
    "\n",
    "2. Cross-validation: Assess model performance on multiple subsets of the data.\n",
    "\n",
    "\n",
    "3. Evaluation metrics: Track metrics like accuracy, precision, recall, or F1 score on both training and validation sets."
   ]
  },
  {
   "cell_type": "markdown",
   "id": "3f007138-c3ea-4d1e-ad92-e68fdd1addf7",
   "metadata": {},
   "source": [
    "Q6: Compare and contrast bias and variance in machine learning. What are some examples of high bias and high variance models, and how do they differ in terms of their performance?"
   ]
  },
  {
   "cell_type": "markdown",
   "id": "2bac9bd0-4838-4590-a5d1-59dc5b85f0f8",
   "metadata": {},
   "source": [
    "High Bias (Underfitting): A linear model for a non-linear relationship. It fails to capture the complexity in the data and performs poorly on both training and test sets.\n",
    "\n",
    "\n",
    "High Variance (Overfitting): A highly complex model that fits the training data too closely but fails to generalize to new data, resulting in good performance on the training set but poor performance on the test set."
   ]
  },
  {
   "cell_type": "markdown",
   "id": "3460cb49-6dc8-4f51-a54d-a7dc7c48d822",
   "metadata": {},
   "source": [
    "Q7: What is regularization in machine learning, and how can it be used to prevent overfitting? Describe some common regularization techniques and how they work."
   ]
  },
  {
   "cell_type": "markdown",
   "id": "ae0c2db3-1fae-49b9-9702-0509876c2fc1",
   "metadata": {},
   "source": [
    "Regularization is a technique used to prevent overfitting by adding a penalty term to the model's objective function. Common regularization techniques include:\n",
    "\n",
    "L1 Regularization (Lasso): Adds the absolute values of the coefficients to the loss function.\n",
    "\n",
    "L2 Regularization (Ridge): Adds the squared values of the coefficients to the loss function.\n",
    "\n",
    "Elastic Net: A combination of L1 and L2 regularization.\n",
    "\n",
    "Dropout: Used in neural networks, it randomly drops neurons during training to prevent over-reliance on specific neurons."
   ]
  },
  {
   "cell_type": "markdown",
   "id": "40a0f758-1b67-47e9-8c8f-ed9c7d077858",
   "metadata": {},
   "source": []
  }
 ],
 "metadata": {
  "kernelspec": {
   "display_name": "Python 3 (ipykernel)",
   "language": "python",
   "name": "python3"
  },
  "language_info": {
   "codemirror_mode": {
    "name": "ipython",
    "version": 3
   },
   "file_extension": ".py",
   "mimetype": "text/x-python",
   "name": "python",
   "nbconvert_exporter": "python",
   "pygments_lexer": "ipython3",
   "version": "3.10.8"
  }
 },
 "nbformat": 4,
 "nbformat_minor": 5
}
