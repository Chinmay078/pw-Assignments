{
  "nbformat": 4,
  "nbformat_minor": 0,
  "metadata": {
    "colab": {
      "provenance": []
    },
    "kernelspec": {
      "name": "python3",
      "display_name": "Python 3"
    },
    "language_info": {
      "name": "python"
    }
  },
  "cells": [
    {
      "cell_type": "markdown",
      "source": [
        "\n",
        "Q1. What is a database? Differentiate between SQL and NoSQL databases.\n",
        "A database is an organized collection of data that can be easily accessed, managed, and updated. It provides a way to store, retrieve, and manipulate data efficiently.\n",
        "\n",
        "Difference between SQL and NoSQL Databases:\n",
        "Data Structure:\n",
        "SQL databases are structured and use tables to store data in rows and columns. NoSQL databases are schema-less and store data in formats like key-value pairs, documents, or graphs.\n",
        "\n",
        "Scalability:\n",
        "SQL databases scale vertically (adding more power to the existing server), whereas NoSQL databases scale horizontally (adding more servers to the system).\n",
        "\n",
        "Query Language:\n",
        "SQL databases use structured query language (SQL) for querying data. NoSQL databases do not have a fixed query language; they rely on specific database APIs.\n",
        "\n",
        "Use Case:\n",
        "SQL databases are ideal for applications requiring complex queries and transactions (e.g., banking systems). NoSQL databases are suitable for applications dealing with unstructured data or requiring high scalability (e.g., social media platforms)."
      ],
      "metadata": {
        "id": "-pXc6Y72jEgy"
      }
    },
    {
      "cell_type": "markdown",
      "source": [
        "Q2. What is DDL? Explain why CREATE, DROP, ALTER, and TRUNCATE are used with examples.\n",
        "DDL (Data Definition Language) is used to define and manage database structures such as tables, schemas, and indexes.\n",
        "\n",
        "CREATE: Used to create a new database object like a table."
      ],
      "metadata": {
        "id": "tKoPm8aXjEX7"
      }
    },
    {
      "cell_type": "code",
      "source": [
        "CREATE TABLE students (\n",
        "    id INT PRIMARY KEY,\n",
        "    name VARCHAR(50),\n",
        "    age INT\n",
        ");\n"
      ],
      "metadata": {
        "id": "3A5q_tMajd13"
      },
      "execution_count": null,
      "outputs": []
    },
    {
      "cell_type": "markdown",
      "source": [
        "DROP: Used to delete a database object permanently."
      ],
      "metadata": {
        "id": "LNSGmvGejV2v"
      }
    },
    {
      "cell_type": "code",
      "source": [
        "DROP TABLE students;\n"
      ],
      "metadata": {
        "id": "_ZkIl8mijjK0"
      },
      "execution_count": null,
      "outputs": []
    },
    {
      "cell_type": "markdown",
      "source": [
        "ALTER: Used to modify an existing database object."
      ],
      "metadata": {
        "id": "LeizdMiijVq3"
      }
    },
    {
      "cell_type": "code",
      "source": [
        "ALTER TABLE students ADD email VARCHAR(100);\n"
      ],
      "metadata": {
        "id": "sw4g4eXFjTt0"
      },
      "execution_count": null,
      "outputs": []
    },
    {
      "cell_type": "markdown",
      "source": [
        "TRUNCATE: Used to remove all records from a table without logging individual row deletions."
      ],
      "metadata": {
        "id": "ipRKh0uNjpie"
      }
    },
    {
      "cell_type": "code",
      "source": [
        "TRUNCATE TABLE students;\n"
      ],
      "metadata": {
        "id": "K7rN-p9Ijr0-"
      },
      "execution_count": null,
      "outputs": []
    },
    {
      "cell_type": "markdown",
      "source": [
        "Q3. What is DML? Explain INSERT, UPDATE, and DELETE with examples.\n",
        "DML (Data Manipulation Language) is used to manipulate the data within database tables.\n",
        "\n",
        "INSERT: Used to add new records to a table.\n",
        "\n",
        "\n",
        "INSERT INTO students (id, name, age) VALUES (1, 'Alice', 20);\n",
        "\n",
        "UPDATE: Used to modify existing records in a table.\n",
        "\n",
        "\n",
        "UPDATE students SET age = 21 WHERE id = 1;\n",
        "\n",
        "DELETE: Used to remove records from a table.\n",
        "\n",
        "DELETE FROM students WHERE id = 1;"
      ],
      "metadata": {
        "id": "C_NiEgqnjvYY"
      }
    },
    {
      "cell_type": "markdown",
      "source": [
        "Q4. What is DQL? Explain SELECT with an example.\n",
        "DQL (Data Query Language) is used to retrieve data from a database. The primary command in DQL is SELECT.\n",
        "\n",
        "Example:\n",
        "\n",
        "sql\n",
        "Copy code\n",
        "SELECT name, age FROM students WHERE age > 18;\n",
        "\n",
        "This query retrieves the name and age of students whose age is greater than 18."
      ],
      "metadata": {
        "id": "rWio2szajvLb"
      }
    },
    {
      "cell_type": "markdown",
      "source": [
        "Q5. Explain Primary Key and Foreign Key.\n",
        "\n",
        "Primary Key:\n",
        "A primary key is a unique identifier for each record in a table. It ensures that no duplicate or null values exist in the column(s) defined as the primary key.\n",
        "Example:\n",
        "\n",
        "\n",
        "CREATE TABLE students (\n",
        "    id INT PRIMARY KEY,\n",
        "    name VARCHAR(50)\n",
        ");\n",
        "\n",
        "Foreign Key:\n",
        "A foreign key establishes a relationship between two tables by linking a column in one table to the primary key in another.\n",
        "Example:\n",
        "\n",
        "\n",
        "CREATE TABLE enrollments (\n",
        "    student_id INT,\n",
        "    course_id INT,\n",
        "    FOREIGN KEY (student_id) REFERENCES students(id)\n",
        ");\n"
      ],
      "metadata": {
        "id": "zWakIR-DkvKe"
      }
    },
    {
      "cell_type": "markdown",
      "source": [
        "Q6. Write a Python code to connect MySQL to Python. Explain the cursor() and execute() methods.\n"
      ],
      "metadata": {
        "id": "4bk0ZUUbk5B6"
      }
    },
    {
      "cell_type": "code",
      "source": [
        "import mysql.connector\n",
        "\n",
        "# Connect to the database\n",
        "connection = mysql.connector.connect(\n",
        "    host=\"localhost\",\n",
        "    user=\"root\",\n",
        "    password=\"password\",\n",
        "    database=\"school\"\n",
        ")\n",
        "\n",
        "cursor = connection.cursor()  # Create a cursor object\n",
        "cursor.execute(\"SELECT * FROM students;\")  # Execute a SQL query\n",
        "\n",
        "for row in cursor.fetchall():\n",
        "    print(row)\n",
        "\n",
        "connection.close()  # Close the connection\n"
      ],
      "metadata": {
        "id": "0lMPoIgolN8P"
      },
      "execution_count": null,
      "outputs": []
    },
    {
      "cell_type": "markdown",
      "source": [
        "Explanation:\n",
        "\n",
        "cursor():\n",
        "Creates a cursor object that allows you to execute SQL queries and fetch results.\n",
        "\n",
        "execute():\n",
        "Executes a given SQL query. It takes the query as an argument and interacts with the database."
      ],
      "metadata": {
        "id": "sd4oUFK1lbuE"
      }
    },
    {
      "cell_type": "markdown",
      "source": [
        "Q7. Give the order of execution of SQL clauses in an SQL query.\n",
        "\n",
        "\n",
        "The order of execution of SQL clauses in a query is as follows:\n",
        "\n",
        "FROM: Determines the source table(s).\n",
        "\n",
        "\n",
        "JOIN: Combines rows from multiple tables.\n",
        "\n",
        "WHERE: Filters rows based on conditions.\n",
        "\n",
        "GROUP BY: Groups rows sharing a property.\n",
        "\n",
        "HAVING: Filters groups based on conditions.\n",
        "\n",
        "SELECT: Selects the columns to display.\n",
        "\n",
        "ORDER BY: Sorts the result.\n",
        "\n",
        "LIMIT: Limits the number of rows returned."
      ],
      "metadata": {
        "id": "vBFMXbRMliyC"
      }
    },
    {
      "cell_type": "code",
      "source": [
        "SELECT name, COUNT(*)\n",
        "FROM students\n",
        "WHERE age > 18\n",
        "GROUP BY name\n",
        "HAVING COUNT(*) > 1\n",
        "ORDER BY name\n",
        "LIMIT 10;\n"
      ],
      "metadata": {
        "id": "EgNZobLvlclD"
      },
      "execution_count": null,
      "outputs": []
    }
  ]
}