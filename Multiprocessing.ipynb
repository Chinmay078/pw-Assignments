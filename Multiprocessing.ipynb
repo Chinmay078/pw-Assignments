{
  "nbformat": 4,
  "nbformat_minor": 0,
  "metadata": {
    "colab": {
      "provenance": []
    },
    "kernelspec": {
      "name": "python3",
      "display_name": "Python 3"
    },
    "language_info": {
      "name": "python"
    }
  },
  "cells": [
    {
      "cell_type": "markdown",
      "source": [
        "Q1. What is multiprocessing in Python? Why is it useful?\n",
        "Multiprocessing in Python refers to the ability to create multiple processes to execute tasks concurrently. Each process runs independently and has its own memory space, allowing true parallelism.\n",
        "\n",
        "Why is it useful?\n",
        "\n",
        "Parallelism: Ideal for CPU-bound tasks as it allows multiple processes to run simultaneously, taking advantage of multi-core processors.\n",
        "Isolation: Each process has its own memory space, preventing data corruption due to shared memory issues.\n",
        "Performance: For computationally heavy tasks, multiprocessing provides significant performance improvement compared to multithreading, especially in Python's CPython implementation, which is restricted by the Global Interpreter Lock (GIL).\n"
      ],
      "metadata": {
        "id": "G_oOrZEErHx4"
      }
    },
    {
      "cell_type": "markdown",
      "source": [
        "Q2. Differences Between Multiprocessing and Multithreading\n",
        "Execution Model:\n",
        "Multiprocessing achieves true parallelism by running multiple processes on different CPU cores. Each process operates independently with its own memory space. In contrast, multithreading uses multiple threads within the same process, which share the same memory and are limited by the Global Interpreter Lock (GIL) in CPython, preventing true parallelism for CPU-bound tasks.\n",
        "\n",
        "Memory Usage:\n",
        "In multiprocessing, each process has its own memory space, making it more isolated and safer from memory corruption but requiring more memory. Multithreading shares the same memory space, which is more memory-efficient but can lead to issues like race conditions.\n",
        "\n",
        "Overhead:\n",
        "Creating and managing processes in multiprocessing has higher overhead compared to threads due to the cost of spawning new processes and inter-process communication. Multithreading has lower overhead as threads are lightweight and share the same resources.\n",
        "\n",
        "Use Cases:\n",
        "Multiprocessing is best suited for CPU-bound tasks like numerical computations or data processing. On the other hand, multithreading is ideal for I/O-bound tasks such as network operations, file handling, or database interactions.\n",
        "\n",
        "Debugging Complexity:\n",
        "Debugging multiprocessing code is often simpler since processes are isolated. Multithreading can be more challenging to debug due to shared memory, which increases the chances of encountering race conditions and deadlocks."
      ],
      "metadata": {
        "id": "LrggYG3XrHmN"
      }
    },
    {
      "cell_type": "markdown",
      "source": [
        "Q3. Write a Python code to create a process using the multiprocessing module."
      ],
      "metadata": {
        "id": "nwSOWK43rZiS"
      }
    },
    {
      "cell_type": "code",
      "execution_count": 1,
      "metadata": {
        "colab": {
          "base_uri": "https://localhost:8080/"
        },
        "id": "HsVxq6E-rGlr",
        "outputId": "18658d19-b169-4df6-b7c7-ed4657db4f46"
      },
      "outputs": [
        {
          "output_type": "stream",
          "name": "stdout",
          "text": [
            "Worker process is running\n",
            "Main process has completed\n"
          ]
        }
      ],
      "source": [
        "import multiprocessing\n",
        "\n",
        "def worker_function():\n",
        "    print(\"Worker process is running\")\n",
        "\n",
        "if __name__ == \"__main__\":\n",
        "    process = multiprocessing.Process(target=worker_function)\n",
        "    process.start()\n",
        "    process.join()\n",
        "    print(\"Main process has completed\")\n"
      ]
    },
    {
      "cell_type": "markdown",
      "source": [
        "Q4. What is a multiprocessing pool in Python? Why is it used?"
      ],
      "metadata": {
        "id": "Z3hWkMw6rfcQ"
      }
    },
    {
      "cell_type": "markdown",
      "source": [
        "A multiprocessing pool in Python is a collection of worker processes managed by the multiprocessing.Pool class. It is used to distribute tasks among multiple processes efficiently.\n",
        "\n",
        "Why is it used?\n",
        "\n",
        "Simplifies parallel execution of a function on a collection of inputs.\n",
        "Automatically manages the worker processes.\n",
        "Useful for scenarios where tasks are independent and can be executed concurrently."
      ],
      "metadata": {
        "id": "GJO-P9rDrkZY"
      }
    },
    {
      "cell_type": "markdown",
      "source": [
        "Q5. How can we create a pool of worker processes in Python using the multiprocessing module?\n",
        "\n",
        "A pool of worker processes can be created using the Pool class from the multiprocessing module. The Pool object manages multiple worker processes and distributes tasks among them.\n",
        "\n",
        "Example:"
      ],
      "metadata": {
        "id": "N4RHKm5drozY"
      }
    },
    {
      "cell_type": "code",
      "source": [
        "import multiprocessing\n",
        "\n",
        "def square(number):\n",
        "    return number ** 2\n",
        "\n",
        "if __name__ == \"__main__\":\n",
        "    with multiprocessing.Pool(processes=4) as pool:\n",
        "        numbers = [1, 2, 3, 4, 5]\n",
        "        results = pool.map(square, numbers)\n",
        "    print(\"Squares:\", results)\n"
      ],
      "metadata": {
        "colab": {
          "base_uri": "https://localhost:8080/"
        },
        "id": "12fM-Yrarb2_",
        "outputId": "46825f2e-5769-46f2-e927-ad3afcdafb49"
      },
      "execution_count": 2,
      "outputs": [
        {
          "output_type": "stream",
          "name": "stdout",
          "text": [
            "Squares: [1, 4, 9, 16, 25]\n"
          ]
        }
      ]
    },
    {
      "cell_type": "markdown",
      "source": [
        "Q6. Write a Python program to create 4 processes, each process should print a different number using the multiprocessing module.\n",
        "\n"
      ],
      "metadata": {
        "id": "ruKSKWW2ryi-"
      }
    },
    {
      "cell_type": "code",
      "source": [
        "import multiprocessing\n",
        "\n",
        "def print_number(number):\n",
        "    print(f\"Process {multiprocessing.current_process().name}: {number}\")\n",
        "\n",
        "if __name__ == \"__main__\":\n",
        "    numbers = [10, 20, 30, 40]\n",
        "    processes = []\n",
        "\n",
        "    for number in numbers:\n",
        "        process = multiprocessing.Process(target=print_number, args=(number,))\n",
        "        processes.append(process)\n",
        "        process.start()\n",
        "\n",
        "    for process in processes:\n",
        "        process.join()\n",
        "\n",
        "    print(\"All processes have completed.\")\n"
      ],
      "metadata": {
        "colab": {
          "base_uri": "https://localhost:8080/"
        },
        "id": "YI1sGf5rrufu",
        "outputId": "a994308a-0c84-4629-9607-3b4c213511e1"
      },
      "execution_count": 3,
      "outputs": [
        {
          "output_type": "stream",
          "name": "stdout",
          "text": [
            "Process Process-6: 10Process Process-7: 20\n",
            "Process Process-8: 30\n",
            "\n",
            "Process Process-9: 40\n",
            "All processes have completed.\n"
          ]
        }
      ]
    },
    {
      "cell_type": "code",
      "source": [],
      "metadata": {
        "id": "yeW4rcyZr3WR"
      },
      "execution_count": null,
      "outputs": []
    }
  ]
}