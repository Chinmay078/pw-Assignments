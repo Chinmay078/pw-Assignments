{
  "nbformat": 4,
  "nbformat_minor": 0,
  "metadata": {
    "colab": {
      "provenance": []
    },
    "kernelspec": {
      "name": "python3",
      "display_name": "Python 3"
    },
    "language_info": {
      "name": "python"
    }
  },
  "cells": [
    {
      "cell_type": "markdown",
      "source": [
        "Q1: What is the difference between Ordinal Encoding and Label Encoding? Provide an example of when you might choose one over the other.\n",
        "\n",
        "Ordinal Encoding assigns integer values to categories while maintaining the inherent order. Label Encoding assigns integer values to categories without considering any order.\n",
        "\n",
        "Example:\n",
        "\n",
        "Ordinal Encoding: Used for ordered categories like \"Education Level\" (High School=1, Bachelor's=2, Master's=3, PhD=4).\n",
        "Label Encoding: Used for unordered categories like \"Color\" (Red=0, Blue=1, Green=2)."
      ],
      "metadata": {
        "id": "EM7wgyKK1u32"
      }
    },
    {
      "cell_type": "markdown",
      "source": [
        "Q2: Explain how Target Guided Ordinal Encoding works and provide an example of when you might use it in a machine learning project.\n",
        "\n",
        "Target Guided Ordinal Encoding assigns integer values to categories based on their relationship with the target variable, often the mean or median of the target for each category.\n",
        "\n",
        "Example:\n",
        "In a project predicting house prices:\n",
        "\n",
        "Feature: \"Neighborhood\"\n",
        "Target: \"House Price\"\n",
        "Encode neighborhoods based on their average house prices, e.g., [Neighborhood A: 300K → 1, Neighborhood B: 500K → 2, Neighborhood C: 700K → 3]."
      ],
      "metadata": {
        "id": "_rqiQtFW164H"
      }
    },
    {
      "cell_type": "markdown",
      "source": [
        "Q3: Define covariance and explain why it is important in statistical analysis. How is covariance calculated?\n",
        "\n",
        "Covariance measures the degree to which two variables change together.\n",
        "\n",
        "Positive covariance: Variables increase together.\n",
        "Negative covariance: One variable increases as the other decreases.\n",
        "Formula:\n",
        "Cov(X, Y) = Σ((Xᵢ - μₓ) * (Yᵢ - μᵧ)) / (n - 1)\n",
        "\n",
        "Importance:\n",
        "Covariance helps understand the relationship between variables, which is critical in dimensionality reduction techniques like PCA.\n",
        "\n"
      ],
      "metadata": {
        "id": "3tXIWYkM1_sK"
      }
    },
    {
      "cell_type": "markdown",
      "source": [
        "Q4: For a dataset with the following categorical variables: Color (red, green, blue), Size (small, medium, large), and Material (wood, metal, plastic), perform label encoding using Python's scikit-learn library."
      ],
      "metadata": {
        "id": "wAYB8vPy2ELI"
      }
    },
    {
      "cell_type": "code",
      "execution_count": 1,
      "metadata": {
        "colab": {
          "base_uri": "https://localhost:8080/"
        },
        "id": "n2peHUB41uHw",
        "outputId": "ca472bd5-3875-4c27-e0ba-3ccee10ad89e"
      },
      "outputs": [
        {
          "output_type": "stream",
          "name": "stdout",
          "text": [
            "Original DataFrame:\n",
            "   Color    Size Material\n",
            "0    red   small     wood\n",
            "1  green  medium    metal\n",
            "2   blue   large  plastic\n",
            "\n",
            "Label Encoded DataFrame:\n",
            "   Color  Size  Material\n",
            "0      2     2         2\n",
            "1      1     1         0\n",
            "2      0     0         1\n"
          ]
        }
      ],
      "source": [
        "from sklearn.preprocessing import LabelEncoder\n",
        "import pandas as pd\n",
        "\n",
        "# Dataset\n",
        "data = {\n",
        "    'Color': ['red', 'green', 'blue'],\n",
        "    'Size': ['small', 'medium', 'large'],\n",
        "    'Material': ['wood', 'metal', 'plastic']\n",
        "}\n",
        "df = pd.DataFrame(data)\n",
        "\n",
        "# Label encoding\n",
        "encoder = LabelEncoder()\n",
        "df_encoded = df.apply(encoder.fit_transform)\n",
        "\n",
        "print(\"Original DataFrame:\")\n",
        "print(df)\n",
        "print(\"\\nLabel Encoded DataFrame:\")\n",
        "print(df_encoded)\n"
      ]
    },
    {
      "cell_type": "markdown",
      "source": [
        "Q5: Calculate the covariance matrix for the following variables in a dataset: Age, Income, and Education Level.\n"
      ],
      "metadata": {
        "id": "G_Nya6BC2Liw"
      }
    },
    {
      "cell_type": "code",
      "source": [
        "import numpy as np\n",
        "import pandas as pd\n",
        "\n",
        "# Dataset\n",
        "data = {\n",
        "    'Age': [25, 30, 35, 40, 45],\n",
        "    'Income': [40000, 50000, 60000, 70000, 80000],\n",
        "    'Education Level': [1, 2, 2, 3, 3]\n",
        "}\n",
        "df = pd.DataFrame(data)\n",
        "\n",
        "# Covariance matrix\n",
        "cov_matrix = df.cov()\n",
        "print(\"Covariance Matrix:\")\n",
        "print(cov_matrix)\n"
      ],
      "metadata": {
        "colab": {
          "base_uri": "https://localhost:8080/"
        },
        "id": "ev_0t8ju2GMV",
        "outputId": "772b7927-280a-4299-be10-53ec4f177162"
      },
      "execution_count": 2,
      "outputs": [
        {
          "output_type": "stream",
          "name": "stdout",
          "text": [
            "Covariance Matrix:\n",
            "                       Age       Income  Education Level\n",
            "Age                  62.50     125000.0             6.25\n",
            "Income           125000.00  250000000.0         12500.00\n",
            "Education Level       6.25      12500.0             0.70\n"
          ]
        }
      ]
    },
    {
      "cell_type": "markdown",
      "source": [
        "Q6: You are working on a machine learning project with a dataset containing several categorical variables, including \"Gender\" (Male/Female), \"Education Level\" (High School/Bachelor's/Master's/PhD), and \"Employment Status\" (Unemployed/Part-Time/Full-Time). Which encoding method would you use for each variable, and why?\n",
        "\n",
        "\n",
        "Gender: One-Hot Encoding (binary category with no ordinal relationship).\n",
        "Education Level: Ordinal Encoding (inherent order in levels of education).\n",
        "Employment Status: One-Hot Encoding (no ordinal relationship)."
      ],
      "metadata": {
        "id": "xUinj0bL2RfZ"
      }
    },
    {
      "cell_type": "markdown",
      "source": [
        "Q7: You are analyzing a dataset with two continuous variables, \"Temperature\" and \"Humidity\", and two categorical variables, \"Weather Condition\" (Sunny/Cloudy/Rainy) and \"Wind Direction\" (North/South/East/West). Calculate the covariance between each pair of variables and interpret the results.\n"
      ],
      "metadata": {
        "id": "URnnZkyK2XTr"
      }
    },
    {
      "cell_type": "code",
      "source": [
        "import numpy as np\n",
        "import pandas as pd\n",
        "\n",
        "# Dataset\n",
        "data = {\n",
        "    'Temperature': [25, 30, 35, 40],\n",
        "    'Humidity': [60, 65, 70, 75],\n",
        "    'Weather Condition': ['Sunny', 'Cloudy', 'Rainy', 'Sunny'],\n",
        "    'Wind Direction': ['North', 'South', 'East', 'West']\n",
        "}\n",
        "df = pd.DataFrame(data)\n",
        "\n",
        "# Encoding categorical variables\n",
        "df['Weather Condition'] = LabelEncoder().fit_transform(df['Weather Condition'])\n",
        "df['Wind Direction'] = LabelEncoder().fit_transform(df['Wind Direction'])\n",
        "\n",
        "# Covariance matrix\n",
        "cov_matrix = df.cov()\n",
        "print(\"Covariance Matrix:\")\n",
        "print(cov_matrix)\n"
      ],
      "metadata": {
        "colab": {
          "base_uri": "https://localhost:8080/"
        },
        "id": "L6d8j1yX2OD5",
        "outputId": "52fe8a98-834c-4628-8d62-32a194e6b56b"
      },
      "execution_count": 3,
      "outputs": [
        {
          "output_type": "stream",
          "name": "stdout",
          "text": [
            "Covariance Matrix:\n",
            "                   Temperature   Humidity  Weather Condition  Wind Direction\n",
            "Temperature          41.666667  41.666667           0.833333        3.333333\n",
            "Humidity             41.666667  41.666667           0.833333        3.333333\n",
            "Weather Condition     0.833333   0.833333           0.916667        0.166667\n",
            "Wind Direction        3.333333   3.333333           0.166667        1.666667\n"
          ]
        }
      ]
    },
    {
      "cell_type": "code",
      "source": [],
      "metadata": {
        "id": "fZPGeVXv2Zm0"
      },
      "execution_count": null,
      "outputs": []
    }
  ]
}