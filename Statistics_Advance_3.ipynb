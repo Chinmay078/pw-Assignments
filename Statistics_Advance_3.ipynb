{
  "nbformat": 4,
  "nbformat_minor": 0,
  "metadata": {
    "colab": {
      "provenance": []
    },
    "kernelspec": {
      "name": "python3",
      "display_name": "Python 3"
    },
    "language_info": {
      "name": "python"
    }
  },
  "cells": [
    {
      "cell_type": "markdown",
      "source": [],
      "metadata": {
        "id": "5MWMNqLyNuBL"
      }
    },
    {
      "cell_type": "markdown",
      "source": [
        "Q1: What is Estimation Statistics? Explain point estimate and interval estimate.\n",
        "\n",
        "\n",
        "Estimation Statistics refers to the process of using sample data to infer or estimate population parameters. It provides a way to generalize findings from a sample to the entire population.\n",
        "\n",
        "Point Estimate: A single value estimate of a population parameter, such as the sample mean (\n",
        "𝑥\n",
        "ˉx\n",
        "ˉ\n",
        " ) for the population mean (\n",
        "𝜇\n",
        "μ).\n",
        "\n",
        "Interval Estimate: A range of values, derived from the sample, within which the population parameter is expected to lie. Confidence intervals are an example."
      ],
      "metadata": {
        "id": "epDF1KRLNwl0"
      }
    },
    {
      "cell_type": "markdown",
      "source": [
        "Q2: Python Function to Estimate Population Mean"
      ],
      "metadata": {
        "id": "BzZSpyogOAWG"
      }
    },
    {
      "cell_type": "code",
      "execution_count": 1,
      "metadata": {
        "colab": {
          "base_uri": "https://localhost:8080/"
        },
        "id": "Jv2OkF20Nrx_",
        "outputId": "b854f27a-e2f1-4908-d6bc-6f2580b28c69"
      },
      "outputs": [
        {
          "output_type": "stream",
          "name": "stdout",
          "text": [
            "Estimated Population Mean: 500, Standard Error: 7.071067811865475\n"
          ]
        }
      ],
      "source": [
        "def estimate_population_mean(sample_mean, sample_std, sample_size):\n",
        "    return sample_mean, sample_std / (sample_size ** 0.5)\n",
        "\n",
        "# Example usage:\n",
        "sample_mean = 500\n",
        "sample_std = 50\n",
        "sample_size = 50\n",
        "mean, std_error = estimate_population_mean(sample_mean, sample_std, sample_size)\n",
        "print(f\"Estimated Population Mean: {mean}, Standard Error: {std_error}\")\n"
      ]
    },
    {
      "cell_type": "markdown",
      "source": [
        "Q3: What is Hypothesis Testing? Importance?\n",
        "\n",
        "\n",
        "Hypothesis Testing is a statistical method used to determine if there is enough evidence in a sample to infer that a certain condition holds for the entire population.\n",
        "\n",
        "Importance:\n",
        "\n",
        "Validates assumptions or claims.\n",
        "Helps in decision-making.\n",
        "Provides a framework to test new theories or innovations."
      ],
      "metadata": {
        "id": "g7Umrg0NOD4q"
      }
    },
    {
      "cell_type": "markdown",
      "source": [
        "Q4: Hypothesis for Average Weight of Male vs Female College Students\n",
        "Hypothesis:\n",
        "\n",
        "Null Hypothesis (\n",
        "𝐻\n",
        "0\n",
        "H\n",
        "0\n",
        "​\n",
        " ):\n",
        "𝜇\n",
        "𝑚\n",
        "=\n",
        "𝜇\n",
        "𝑓\n",
        "μ\n",
        "m\n",
        "​\n",
        " =μ\n",
        "f\n",
        "​\n",
        "  (No difference in average weights).\n",
        "Alternative Hypothesis (\n",
        "𝐻\n",
        "𝑎\n",
        "H\n",
        "a\n",
        "​\n",
        " ):\n",
        "𝜇\n",
        "𝑚\n",
        ">\n",
        "𝜇\n",
        "𝑓\n",
        "μ\n",
        "m\n",
        "​\n",
        " >μ\n",
        "f\n",
        "​\n",
        "  (Male students weigh more on average)."
      ],
      "metadata": {
        "id": "--IgRTd1OGdV"
      }
    },
    {
      "cell_type": "markdown",
      "source": [
        "Q5: Python Script for Hypothesis Testing Between Two Population Means"
      ],
      "metadata": {
        "id": "Z06VgU10OJfq"
      }
    },
    {
      "cell_type": "code",
      "source": [
        "from scipy.stats import ttest_ind\n",
        "\n",
        "def hypothesis_test(sample1, sample2):\n",
        "    t_stat, p_value = ttest_ind(sample1, sample2)\n",
        "    return t_stat, p_value\n",
        "\n",
        "# Example usage:\n",
        "sample1 = [75, 80, 85, 78, 82]  # Example male weights\n",
        "sample2 = [65, 70, 68, 72, 66]  # Example female weights\n",
        "t_stat, p_value = hypothesis_test(sample1, sample2)\n",
        "print(f\"T-statistic: {t_stat}, P-value: {p_value}\")\n"
      ],
      "metadata": {
        "colab": {
          "base_uri": "https://localhost:8080/"
        },
        "id": "6COmeeArOBoj",
        "outputId": "c05c6ca7-799d-4318-9b1a-f7c34f23cf02"
      },
      "execution_count": 2,
      "outputs": [
        {
          "output_type": "stream",
          "name": "stdout",
          "text": [
            "T-statistic: 5.5380144026743965, P-value: 0.0005486377222075833\n"
          ]
        }
      ]
    },
    {
      "cell_type": "markdown",
      "source": [
        "Q6: Null and Alternative Hypotheses Examples\n",
        "\n",
        "Null Hypothesis (\n",
        "𝐻\n",
        "0\n",
        "H\n",
        "0\n",
        "​\n",
        " ): No significant effect or difference. Example:\n",
        "𝜇\n",
        "1\n",
        "=\n",
        "𝜇\n",
        "2\n",
        "μ\n",
        "1\n",
        "​\n",
        " =μ\n",
        "2\n",
        "​\n",
        "  (Means are equal).\n",
        "\n",
        "Alternative Hypothesis (\n",
        "𝐻\n",
        "𝑎\n",
        "H\n",
        "a\n",
        "​\n",
        " ): Indicates a significant effect or difference. Example:\n",
        "𝜇\n",
        "1\n",
        "≠\n",
        "𝜇\n",
        "2\n",
        "μ\n",
        "1\n",
        "​\n",
        "\n",
        "\n",
        "=μ\n",
        "2\n",
        "​\n",
        "  (Means are not equal).\n",
        "\n",
        "Q7: Steps in Hypothesis Testing\n",
        "\n",
        "State the null and alternative hypotheses.\n",
        "Choose a significance level (\n",
        "𝛼\n",
        "α).\n",
        "Select the appropriate test and calculate the test statistic.\n",
        "Find the p-value and compare it with\n",
        "𝛼\n",
        "α.\n",
        "Make a decision: reject or fail to reject\n",
        "𝐻\n",
        "0\n",
        "H\n",
        "0\n",
        "​\n",
        " .\n",
        "\n",
        "Q8: Define P-value\n",
        "The p-value measures the probability of obtaining results at least as extreme as the observed results, under the assumption that the null hypothesis is true.\n",
        "\n",
        "Significance:\n",
        "\n",
        "A smaller p-value (<\n",
        "𝛼\n",
        "α) indicates stronger evidence against\n",
        "𝐻\n",
        "0\n",
        "H\n",
        "0\n",
        "​\n",
        " ."
      ],
      "metadata": {
        "id": "IEJSlgHkOOq8"
      }
    },
    {
      "cell_type": "markdown",
      "source": [
        "Q9: Student's T-Distribution Plot"
      ],
      "metadata": {
        "id": "0L6I4K9EOXOU"
      }
    },
    {
      "cell_type": "code",
      "source": [
        "import numpy as np\n",
        "import matplotlib.pyplot as plt\n",
        "from scipy.stats import t\n",
        "\n",
        "df = 10  # Degrees of freedom\n",
        "x = np.linspace(-4, 4, 1000)\n",
        "y = t.pdf(x, df)\n",
        "\n",
        "plt.plot(x, y, label=\"t-distribution (df=10)\")\n",
        "plt.title(\"Student's t-Distribution\")\n",
        "plt.xlabel(\"t-value\")\n",
        "plt.ylabel(\"Probability Density\")\n",
        "plt.legend()\n",
        "plt.grid()\n",
        "plt.show()\n"
      ],
      "metadata": {
        "colab": {
          "base_uri": "https://localhost:8080/",
          "height": 472
        },
        "id": "-M0450ykOK62",
        "outputId": "226b83bb-a59d-4ac6-9158-a7421a978442"
      },
      "execution_count": 3,
      "outputs": [
        {
          "output_type": "display_data",
          "data": {
            "text/plain": [
              "<Figure size 640x480 with 1 Axes>"
            ],
            "image/png": "[encoded data removed]"
          },
          "metadata": {}
        }
      ]
    },
    {
      "cell_type": "markdown",
      "source": [
        "Q10: Python Program for Two-Sample T-Test"
      ],
      "metadata": {
        "id": "VX4B8IKnOeYq"
      }
    },
    {
      "cell_type": "code",
      "source": [
        "from scipy.stats import ttest_ind\n",
        "\n",
        "def two_sample_ttest(sample1, sample2):\n",
        "    t_stat, p_value = ttest_ind(sample1, sample2, equal_var=True)\n",
        "    return t_stat, p_value\n",
        "\n",
        "# Example usage:\n",
        "sample1 = [5.2, 5.4, 5.1, 5.3, 5.5]\n",
        "sample2 = [5.0, 4.8, 4.9, 4.7, 4.8]\n",
        "t_stat, p_value = two_sample_ttest(sample1, sample2)\n",
        "print(f\"T-statistic: {t_stat}, P-value: {p_value}\")\n"
      ],
      "metadata": {
        "colab": {
          "base_uri": "https://localhost:8080/"
        },
        "id": "wV_JiNSGOcY5",
        "outputId": "12318414-56e6-4e16-bc9f-e0f37f5b703e"
      },
      "execution_count": 4,
      "outputs": [
        {
          "output_type": "stream",
          "name": "stdout",
          "text": [
            "T-statistic: 5.276561879022907, P-value: 0.0007493176296417981\n"
          ]
        }
      ]
    },
    {
      "cell_type": "markdown",
      "source": [
        "Q11: What is Student's t-Distribution?\n",
        "\n",
        "A probability distribution used to estimate population parameters when the sample size is small, and the population standard deviation is unknown.\n",
        "\n",
        "When to Use:\n",
        "\n",
        "Small sample size (\n",
        "𝑛\n",
        "<\n",
        "30\n",
        "n<30).\n"
      ],
      "metadata": {
        "id": "aa2RKREKOj59"
      }
    },
    {
      "cell_type": "markdown",
      "source": [
        "Q12: t-Statistic Formula\n",
        "𝑡\n",
        "=\n",
        "𝑥\n",
        "ˉ\n",
        "−\n",
        "𝜇\n",
        "𝑠\n",
        "/\n",
        "𝑛\n",
        "t=\n",
        "s/\n",
        "n\n",
        "​\n",
        "\n",
        "x\n",
        "ˉ\n",
        " −μ\n",
        "​\n",
        "\n",
        "Where:\n",
        "\n",
        "𝑥\n",
        "ˉ\n",
        "x\n",
        "ˉ\n",
        " : Sample mean.\n",
        "\n",
        "μ: Population mean.\n",
        "\n",
        "s: Sample standard deviation.\n",
        "\n",
        "n: Sample size."
      ],
      "metadata": {
        "id": "RaVrL6YsOtY-"
      }
    },
    {
      "cell_type": "markdown",
      "source": [
        "Q13: Confidence Interval for Coffee Shop Revenue"
      ],
      "metadata": {
        "id": "loczE8hcPBRl"
      }
    },
    {
      "cell_type": "code",
      "source": [
        "import scipy.stats as stats\n",
        "\n",
        "sample_mean = 500\n",
        "sample_std = 50\n",
        "n = 50\n",
        "confidence_level = 0.95\n",
        "\n",
        "margin_error = stats.norm.ppf((1 + confidence_level) / 2) * (sample_std / (n ** 0.5))\n",
        "lower_bound = sample_mean - margin_error\n",
        "upper_bound = sample_mean + margin_error\n",
        "\n",
        "print(f\"95% Confidence Interval: ({lower_bound}, {upper_bound})\")\n"
      ],
      "metadata": {
        "colab": {
          "base_uri": "https://localhost:8080/"
        },
        "id": "GpxaheiNOf6c",
        "outputId": "469e191b-e5ae-4b7e-b03a-09e3fdfdb500"
      },
      "execution_count": 6,
      "outputs": [
        {
          "output_type": "stream",
          "name": "stdout",
          "text": [
            "95% Confidence Interval: (486.1409617565032, 513.8590382434968)\n"
          ]
        }
      ]
    },
    {
      "cell_type": "markdown",
      "source": [
        "Q14: Test for Blood Pressure Hypothesis"
      ],
      "metadata": {
        "id": "SYcZQciFPERF"
      }
    },
    {
      "cell_type": "code",
      "source": [
        "n = 100\n",
        "sample_mean = 8\n",
        "pop_mean = 10\n",
        "std_dev = 3\n",
        "alpha = 0.05\n",
        "\n",
        "t_stat = (sample_mean - pop_mean) / (std_dev / (n ** 0.5))\n",
        "critical_value = stats.t.ppf(1 - alpha, df=n-1)\n",
        "print(f\"T-statistic: {t_stat}, Critical Value: {critical_value}\")\n"
      ],
      "metadata": {
        "colab": {
          "base_uri": "https://localhost:8080/"
        },
        "id": "_I-7Xcf0Oq9b",
        "outputId": "3e5dc64a-926d-467c-d6ca-26a966442b17"
      },
      "execution_count": 7,
      "outputs": [
        {
          "output_type": "stream",
          "name": "stdout",
          "text": [
            "T-statistic: -6.666666666666667, Critical Value: 1.6603911559963895\n"
          ]
        }
      ]
    },
    {
      "cell_type": "markdown",
      "source": [
        "Q15: Hypothesis Test for Product Weight"
      ],
      "metadata": {
        "id": "Y7cfChADPHbM"
      }
    },
    {
      "cell_type": "code",
      "source": [
        "sample_mean = 4.8\n",
        "pop_mean = 5\n",
        "std_dev = 0.5\n",
        "n = 25\n",
        "alpha = 0.01\n",
        "\n",
        "t_stat = (sample_mean - pop_mean) / (std_dev / (n ** 0.5))\n",
        "critical_value = stats.t.ppf(alpha, df=n-1)\n",
        "print(f\"T-statistic: {t_stat}, Critical Value: {critical_value}\")\n"
      ],
      "metadata": {
        "colab": {
          "base_uri": "https://localhost:8080/"
        },
        "id": "TAO0s9-0PFxm",
        "outputId": "38c58260-30ec-4b1e-f407-511569a1ab4c"
      },
      "execution_count": 8,
      "outputs": [
        {
          "output_type": "stream",
          "name": "stdout",
          "text": [
            "T-statistic: -2.0000000000000018, Critical Value: -2.4921594731575762\n"
          ]
        }
      ]
    },
    {
      "cell_type": "markdown",
      "source": [
        "Q16: Hypothesis Test for Two Groups"
      ],
      "metadata": {
        "id": "97xAi-JlPMDN"
      }
    },
    {
      "cell_type": "code",
      "source": [
        "n1, mean1, std1 = 30, 80, 10\n",
        "n2, mean2, std2 = 40, 75, 8\n",
        "alpha = 0.01\n",
        "\n",
        "pooled_std = (((n1-1)*std1**2 + (n2-1)*std2**2) / (n1 + n2 - 2)) ** 0.5\n",
        "t_stat = (mean1 - mean2) / (pooled_std * ((1/n1) + (1/n2)) ** 0.5)\n",
        "critical_value = stats.t.ppf(1 - alpha, df=n1 + n2 - 2)\n",
        "print(f\"T-statistic: {t_stat}, Critical Value: {critical_value}\")\n"
      ],
      "metadata": {
        "colab": {
          "base_uri": "https://localhost:8080/"
        },
        "id": "K-hXytRiPKDn",
        "outputId": "a5701027-ce6e-4da8-c3ff-f688f32335fa"
      },
      "execution_count": 9,
      "outputs": [
        {
          "output_type": "stream",
          "name": "stdout",
          "text": [
            "T-statistic: 2.3239677296992913, Critical Value: 2.3824458031673093\n"
          ]
        }
      ]
    },
    {
      "cell_type": "markdown",
      "source": [
        "Q17: Confidence Interval for Ads Watched"
      ],
      "metadata": {
        "id": "4A_wzegePPf3"
      }
    },
    {
      "cell_type": "code",
      "source": [
        "sample_mean = 4\n",
        "sample_std = 1.5\n",
        "n = 50\n",
        "confidence_level = 0.99\n",
        "\n",
        "margin_error = stats.norm.ppf((1 + confidence_level) / 2) * (sample_std / (n ** 0.5))\n",
        "lower_bound = sample_mean - margin_error\n",
        "upper_bound = sample_mean + margin_error\n",
        "\n",
        "print(f\"99% Confidence Interval: ({lower_bound}, {upper_bound})\")\n"
      ],
      "metadata": {
        "colab": {
          "base_uri": "https://localhost:8080/"
        },
        "id": "0UAJnMGUPNpG",
        "outputId": "777a0bac-8318-4cfd-de5b-7496e8b4dd9a"
      },
      "execution_count": 10,
      "outputs": [
        {
          "output_type": "stream",
          "name": "stdout",
          "text": [
            "99% Confidence Interval: (3.4535840896844654, 4.546415910315535)\n"
          ]
        }
      ]
    },
    {
      "cell_type": "code",
      "source": [],
      "metadata": {
        "id": "qRUDhmUbPQ6L"
      },
      "execution_count": null,
      "outputs": []
    }
  ]
}