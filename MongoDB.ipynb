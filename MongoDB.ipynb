{
  "nbformat": 4,
  "nbformat_minor": 0,
  "metadata": {
    "colab": {
      "provenance": []
    },
    "kernelspec": {
      "name": "python3",
      "display_name": "Python 3"
    },
    "language_info": {
      "name": "python"
    }
  },
  "cells": [
    {
      "cell_type": "markdown",
      "source": [
        "Q1. What is MongoDB? Explain non-relational databases in short. In which scenarios is MongoDB preferred over SQL databases?\n",
        "MongoDB is a NoSQL, document-oriented database that stores data in flexible, JSON-like documents instead of tables. It allows for dynamic schemas, which makes it ideal for unstructured or semi-structured data.\n",
        "\n",
        "Non-Relational Databases:\n",
        "Non-relational databases, also known as NoSQL databases, are designed to handle large volumes of unstructured or semi-structured data. They do not use a fixed schema, and their data models include key-value pairs, documents, graphs, or columns.\n",
        "\n",
        "When to prefer MongoDB over SQL:\n",
        "Dynamic Schema: MongoDB is ideal for applications where data structure changes frequently.\n",
        "Scalability: For horizontal scaling across multiple servers, MongoDB is preferred.\n",
        "Big Data Applications: It handles large datasets more efficiently than traditional SQL databases.\n",
        "Flexibility: For applications requiring flexible and fast development cycles, such as real-time analytics or content management systems."
      ],
      "metadata": {
        "id": "Hv_993N4moPE"
      }
    },
    {
      "cell_type": "markdown",
      "source": [
        "\n",
        "\n",
        "Q2. Features of MongoDB\n",
        "\n",
        "Schema-less: Stores data in flexible, JSON-like documents.\n",
        "\n",
        "Scalability: Supports horizontal scaling through sharding.\n",
        "\n",
        "High Performance: Optimized for read and write operations.\n",
        "\n",
        "Indexing: Supports indexes to improve query performance.\n",
        "\n",
        "Aggregation Framework: Provides powerful tools for data analysis.\n",
        "\n",
        "Replication: Ensures high availability through replica sets.\n",
        "\n",
        "File Storage: Offers GridFS for handling large files.\n"
      ],
      "metadata": {
        "id": "VqAH2gzpmoFv"
      }
    },
    {
      "cell_type": "markdown",
      "source": [
        "Q3. Write a code to connect MongoDB to Python and create a database and a collection."
      ],
      "metadata": {
        "id": "pVYkFQyWm4fY"
      }
    },
    {
      "cell_type": "code",
      "source": [
        "from pymongo import MongoClient\n",
        "\n",
        "# Connect to MongoDB server\n",
        "client = MongoClient(\"mongodb://localhost:27017/\")\n",
        "\n",
        "# Create a database\n",
        "database = client[\"my_database\"]\n",
        "\n",
        "# Create a collection\n",
        "collection = database[\"my_collection\"]\n",
        "\n",
        "print(\"Database and collection created successfully!\")\n"
      ],
      "metadata": {
        "id": "Z4XDiLKwnFYO"
      },
      "execution_count": null,
      "outputs": []
    },
    {
      "cell_type": "markdown",
      "source": [
        "Q4. Code to insert records and use find() and find_one()."
      ],
      "metadata": {
        "id": "D4S6H5fYnDEA"
      }
    },
    {
      "cell_type": "code",
      "source": [
        "# Insert one record\n",
        "record = {\"name\": \"Alice\", \"age\": 25, \"city\": \"New York\"}\n",
        "collection.insert_one(record)\n",
        "\n",
        "# Insert multiple records\n",
        "records = [\n",
        "    {\"name\": \"Bob\", \"age\": 30, \"city\": \"Los Angeles\"},\n",
        "    {\"name\": \"Charlie\", \"age\": 35, \"city\": \"Chicago\"}\n",
        "]\n",
        "collection.insert_many(records)\n",
        "\n",
        "# Find one record\n",
        "print(\"One record:\", collection.find_one({\"name\": \"Alice\"}))\n",
        "\n",
        "# Find all records\n",
        "print(\"All records:\")\n",
        "for doc in collection.find():\n",
        "    print(doc)\n"
      ],
      "metadata": {
        "id": "uyv0rz3rnOV0"
      },
      "execution_count": null,
      "outputs": []
    },
    {
      "cell_type": "markdown",
      "source": [
        "Q5. Using find() method to query MongoDB\n",
        "\n",
        "The find() method is used to retrieve multiple documents from a collection. You can pass a query to filter results."
      ],
      "metadata": {
        "id": "0FG5MPzUnS-Z"
      }
    },
    {
      "cell_type": "code",
      "source": [
        "# Query all documents where age > 25\n",
        "query = {\"age\": {\"$gt\": 25}}\n",
        "results = collection.find(query)\n",
        "\n",
        "print(\"Query results:\")\n",
        "for doc in results:\n",
        "    print(doc)\n"
      ],
      "metadata": {
        "id": "PPJP64DxnMnp"
      },
      "execution_count": null,
      "outputs": []
    },
    {
      "cell_type": "markdown",
      "source": [
        "Q6. Explain the sort() method with an example.\n",
        "\n",
        "The sort() method sorts the documents based on a specified field in ascending (1) or descending (-1) order."
      ],
      "metadata": {
        "id": "nnBYMlklnZZt"
      }
    },
    {
      "cell_type": "code",
      "source": [
        "# Sort documents by age in ascending order\n",
        "sorted_docs = collection.find().sort(\"age\", 1)\n",
        "\n",
        "print(\"Sorted documents:\")\n",
        "for doc in sorted_docs:\n",
        "    print(doc)\n"
      ],
      "metadata": {
        "id": "ePPwLBwfne4D"
      },
      "execution_count": null,
      "outputs": []
    },
    {
      "cell_type": "markdown",
      "source": [
        "Q7. Why are delete_one(), delete_many(), and drop() used?\n",
        "\n",
        "delete_one(): Deletes a single document that matches the query."
      ],
      "metadata": {
        "id": "8SlvWq9wnfp_"
      }
    },
    {
      "cell_type": "code",
      "source": [
        "collection.delete_one({\"name\": \"Alice\"})\n"
      ],
      "metadata": {
        "id": "H5IvqzxKnipp"
      },
      "execution_count": null,
      "outputs": []
    },
    {
      "cell_type": "markdown",
      "source": [
        "delete_many(): Deletes all documents that match the query."
      ],
      "metadata": {
        "id": "p5buijDSnkxD"
      }
    },
    {
      "cell_type": "code",
      "source": [
        "collection.delete_many({\"city\": \"Los Angeles\"})\n"
      ],
      "metadata": {
        "id": "G8Pqcjypnmfc"
      },
      "execution_count": null,
      "outputs": []
    },
    {
      "cell_type": "markdown",
      "source": [
        "drop(): Deletes the entire collection along with all its documents."
      ],
      "metadata": {
        "id": "uHVRXGWLnrnb"
      }
    },
    {
      "cell_type": "code",
      "source": [
        "collection.drop()"
      ],
      "metadata": {
        "id": "AzlEFaXLnrPU"
      },
      "execution_count": null,
      "outputs": []
    }
  ]
}